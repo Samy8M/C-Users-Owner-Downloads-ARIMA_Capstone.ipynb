{
  "nbformat": 4,
  "nbformat_minor": 0,
  "metadata": {
    "colab": {
      "provenance": [],
      "collapsed_sections": [
        "_bKgz-5uKh-u",
        "JcQfbTUIK1uW",
        "tlmyzq_E1Zr4",
        "yR5qsI4XnLi8",
        "yAt0sgYm5IsY"
      ]
    },
    "kernelspec": {
      "name": "python3",
      "display_name": "Python 3"
    },
    "language_info": {
      "name": "python"
    }
  },
  "cells": [
    {
      "cell_type": "markdown",
      "source": [
        "#PREDICTING GDP PER CAPITA FOR SUB-SAHARAN AFRICA"
      ],
      "metadata": {
        "id": "_bKgz-5uKh-u"
      }
    },
    {
      "cell_type": "markdown",
      "source": [
        "# ARIMA MODEL \n",
        "(AUTOREGRESSIVE INTEGRATED MOVING AVERAGE)\n",
        "ARIMA(p,d,q), \n",
        "where p = number of lag observations included in the model,\n",
        "      d = number of times that the raw observations are differenced,\n",
        "      q = size of the moving average window."
      ],
      "metadata": {
        "id": "JcQfbTUIK1uW"
      }
    },
    {
      "cell_type": "code",
      "execution_count": 1,
      "metadata": {
        "id": "FOo8IHVBKg2w"
      },
      "outputs": [],
      "source": [
        "import matplotlib.pyplot as plt  #Import visualization libraries\n",
        "from matplotlib import pyplot\n",
        "import pandas as pd\n",
        "import numpy as np\n",
        "import torch.optim as optim #The neural network optimizer\n",
        "from sklearn.model_selection import train_test_split #For splitting the data\n",
        "from sklearn.neighbors import KNeighborsRegressor #To define the kNN model\n",
        "from statsmodels.tsa.arima_model import ARIMA\n",
        "#Inspect the kNN model\n",
        "from sklearn.metrics import mean_squared_error, mean_absolute_error\n",
        "from math import sqrt\n",
        "import seaborn as sns #For visualization\n",
        "#For LR\n",
        "import statsmodels.formula.api as smf\n",
        "import statsmodels.stats.api as sms"
      ]
    },
    {
      "cell_type": "code",
      "source": [
        "#For functions like (go.) which we use for visualization\n",
        "!pip install ipywidgets"
      ],
      "metadata": {
        "colab": {
          "base_uri": "https://localhost:8080/"
        },
        "id": "X9V9O3XHXj_m",
        "outputId": "49be87fd-6519-4073-a515-c006317bd23b"
      },
      "execution_count": 2,
      "outputs": [
        {
          "output_type": "stream",
          "name": "stdout",
          "text": [
            "Looking in indexes: https://pypi.org/simple, https://us-python.pkg.dev/colab-wheels/public/simple/\n",
            "Requirement already satisfied: ipywidgets in /usr/local/lib/python3.8/dist-packages (7.7.1)\n",
            "Requirement already satisfied: ipython>=4.0.0 in /usr/local/lib/python3.8/dist-packages (from ipywidgets) (7.9.0)\n",
            "Requirement already satisfied: jupyterlab-widgets>=1.0.0 in /usr/local/lib/python3.8/dist-packages (from ipywidgets) (3.0.4)\n",
            "Requirement already satisfied: traitlets>=4.3.1 in /usr/local/lib/python3.8/dist-packages (from ipywidgets) (5.7.1)\n",
            "Requirement already satisfied: ipykernel>=4.5.1 in /usr/local/lib/python3.8/dist-packages (from ipywidgets) (5.3.4)\n",
            "Requirement already satisfied: ipython-genutils~=0.2.0 in /usr/local/lib/python3.8/dist-packages (from ipywidgets) (0.2.0)\n",
            "Requirement already satisfied: widgetsnbextension~=3.6.0 in /usr/local/lib/python3.8/dist-packages (from ipywidgets) (3.6.1)\n",
            "Requirement already satisfied: jupyter-client in /usr/local/lib/python3.8/dist-packages (from ipykernel>=4.5.1->ipywidgets) (6.1.12)\n",
            "Requirement already satisfied: tornado>=4.2 in /usr/local/lib/python3.8/dist-packages (from ipykernel>=4.5.1->ipywidgets) (6.0.4)\n",
            "Requirement already satisfied: decorator in /usr/local/lib/python3.8/dist-packages (from ipython>=4.0.0->ipywidgets) (4.4.2)\n",
            "Collecting jedi>=0.10\n",
            "  Downloading jedi-0.18.2-py2.py3-none-any.whl (1.6 MB)\n",
            "\u001b[K     |████████████████████████████████| 1.6 MB 4.3 MB/s \n",
            "\u001b[?25hRequirement already satisfied: pygments in /usr/local/lib/python3.8/dist-packages (from ipython>=4.0.0->ipywidgets) (2.6.1)\n",
            "Requirement already satisfied: setuptools>=18.5 in /usr/local/lib/python3.8/dist-packages (from ipython>=4.0.0->ipywidgets) (57.4.0)\n",
            "Requirement already satisfied: backcall in /usr/local/lib/python3.8/dist-packages (from ipython>=4.0.0->ipywidgets) (0.2.0)\n",
            "Requirement already satisfied: pexpect in /usr/local/lib/python3.8/dist-packages (from ipython>=4.0.0->ipywidgets) (4.8.0)\n",
            "Requirement already satisfied: prompt-toolkit<2.1.0,>=2.0.0 in /usr/local/lib/python3.8/dist-packages (from ipython>=4.0.0->ipywidgets) (2.0.10)\n",
            "Requirement already satisfied: pickleshare in /usr/local/lib/python3.8/dist-packages (from ipython>=4.0.0->ipywidgets) (0.7.5)\n",
            "Requirement already satisfied: parso<0.9.0,>=0.8.0 in /usr/local/lib/python3.8/dist-packages (from jedi>=0.10->ipython>=4.0.0->ipywidgets) (0.8.3)\n",
            "Requirement already satisfied: wcwidth in /usr/local/lib/python3.8/dist-packages (from prompt-toolkit<2.1.0,>=2.0.0->ipython>=4.0.0->ipywidgets) (0.2.5)\n",
            "Requirement already satisfied: six>=1.9.0 in /usr/local/lib/python3.8/dist-packages (from prompt-toolkit<2.1.0,>=2.0.0->ipython>=4.0.0->ipywidgets) (1.15.0)\n",
            "Requirement already satisfied: notebook>=4.4.1 in /usr/local/lib/python3.8/dist-packages (from widgetsnbextension~=3.6.0->ipywidgets) (5.7.16)\n",
            "Requirement already satisfied: prometheus-client in /usr/local/lib/python3.8/dist-packages (from notebook>=4.4.1->widgetsnbextension~=3.6.0->ipywidgets) (0.15.0)\n",
            "Requirement already satisfied: jupyter-core>=4.4.0 in /usr/local/lib/python3.8/dist-packages (from notebook>=4.4.1->widgetsnbextension~=3.6.0->ipywidgets) (5.1.0)\n",
            "Requirement already satisfied: nbformat in /usr/local/lib/python3.8/dist-packages (from notebook>=4.4.1->widgetsnbextension~=3.6.0->ipywidgets) (5.7.0)\n",
            "Requirement already satisfied: terminado>=0.8.1 in /usr/local/lib/python3.8/dist-packages (from notebook>=4.4.1->widgetsnbextension~=3.6.0->ipywidgets) (0.13.3)\n",
            "Requirement already satisfied: Send2Trash in /usr/local/lib/python3.8/dist-packages (from notebook>=4.4.1->widgetsnbextension~=3.6.0->ipywidgets) (1.8.0)\n",
            "Requirement already satisfied: pyzmq>=17 in /usr/local/lib/python3.8/dist-packages (from notebook>=4.4.1->widgetsnbextension~=3.6.0->ipywidgets) (23.2.1)\n",
            "Requirement already satisfied: jinja2<=3.0.0 in /usr/local/lib/python3.8/dist-packages (from notebook>=4.4.1->widgetsnbextension~=3.6.0->ipywidgets) (2.11.3)\n",
            "Requirement already satisfied: nbconvert<6.0 in /usr/local/lib/python3.8/dist-packages (from notebook>=4.4.1->widgetsnbextension~=3.6.0->ipywidgets) (5.6.1)\n",
            "Requirement already satisfied: MarkupSafe>=0.23 in /usr/local/lib/python3.8/dist-packages (from jinja2<=3.0.0->notebook>=4.4.1->widgetsnbextension~=3.6.0->ipywidgets) (2.0.1)\n",
            "Requirement already satisfied: python-dateutil>=2.1 in /usr/local/lib/python3.8/dist-packages (from jupyter-client->ipykernel>=4.5.1->ipywidgets) (2.8.2)\n",
            "Requirement already satisfied: platformdirs>=2.5 in /usr/local/lib/python3.8/dist-packages (from jupyter-core>=4.4.0->notebook>=4.4.1->widgetsnbextension~=3.6.0->ipywidgets) (2.6.0)\n",
            "Requirement already satisfied: mistune<2,>=0.8.1 in /usr/local/lib/python3.8/dist-packages (from nbconvert<6.0->notebook>=4.4.1->widgetsnbextension~=3.6.0->ipywidgets) (0.8.4)\n",
            "Requirement already satisfied: entrypoints>=0.2.2 in /usr/local/lib/python3.8/dist-packages (from nbconvert<6.0->notebook>=4.4.1->widgetsnbextension~=3.6.0->ipywidgets) (0.4)\n",
            "Requirement already satisfied: testpath in /usr/local/lib/python3.8/dist-packages (from nbconvert<6.0->notebook>=4.4.1->widgetsnbextension~=3.6.0->ipywidgets) (0.6.0)\n",
            "Requirement already satisfied: defusedxml in /usr/local/lib/python3.8/dist-packages (from nbconvert<6.0->notebook>=4.4.1->widgetsnbextension~=3.6.0->ipywidgets) (0.7.1)\n",
            "Requirement already satisfied: bleach in /usr/local/lib/python3.8/dist-packages (from nbconvert<6.0->notebook>=4.4.1->widgetsnbextension~=3.6.0->ipywidgets) (5.0.1)\n",
            "Requirement already satisfied: pandocfilters>=1.4.1 in /usr/local/lib/python3.8/dist-packages (from nbconvert<6.0->notebook>=4.4.1->widgetsnbextension~=3.6.0->ipywidgets) (1.5.0)\n",
            "Requirement already satisfied: fastjsonschema in /usr/local/lib/python3.8/dist-packages (from nbformat->notebook>=4.4.1->widgetsnbextension~=3.6.0->ipywidgets) (2.16.2)\n",
            "Requirement already satisfied: jsonschema>=2.6 in /usr/local/lib/python3.8/dist-packages (from nbformat->notebook>=4.4.1->widgetsnbextension~=3.6.0->ipywidgets) (4.3.3)\n",
            "Requirement already satisfied: importlib-resources>=1.4.0 in /usr/local/lib/python3.8/dist-packages (from jsonschema>=2.6->nbformat->notebook>=4.4.1->widgetsnbextension~=3.6.0->ipywidgets) (5.10.1)\n",
            "Requirement already satisfied: pyrsistent!=0.17.0,!=0.17.1,!=0.17.2,>=0.14.0 in /usr/local/lib/python3.8/dist-packages (from jsonschema>=2.6->nbformat->notebook>=4.4.1->widgetsnbextension~=3.6.0->ipywidgets) (0.19.2)\n",
            "Requirement already satisfied: attrs>=17.4.0 in /usr/local/lib/python3.8/dist-packages (from jsonschema>=2.6->nbformat->notebook>=4.4.1->widgetsnbextension~=3.6.0->ipywidgets) (22.1.0)\n",
            "Requirement already satisfied: zipp>=3.1.0 in /usr/local/lib/python3.8/dist-packages (from importlib-resources>=1.4.0->jsonschema>=2.6->nbformat->notebook>=4.4.1->widgetsnbextension~=3.6.0->ipywidgets) (3.11.0)\n",
            "Requirement already satisfied: ptyprocess in /usr/local/lib/python3.8/dist-packages (from terminado>=0.8.1->notebook>=4.4.1->widgetsnbextension~=3.6.0->ipywidgets) (0.7.0)\n",
            "Requirement already satisfied: webencodings in /usr/local/lib/python3.8/dist-packages (from bleach->nbconvert<6.0->notebook>=4.4.1->widgetsnbextension~=3.6.0->ipywidgets) (0.5.1)\n",
            "Installing collected packages: jedi\n",
            "Successfully installed jedi-0.18.2\n"
          ]
        }
      ]
    },
    {
      "cell_type": "code",
      "source": [
        "#Upload file from local directory\n",
        "#For images you can upload a zip file\n",
        "from google.colab import files\n",
        "uploaded = files.upload()"
      ],
      "metadata": {
        "colab": {
          "base_uri": "https://localhost:8080/",
          "height": 73
        },
        "id": "rVY7Tu9gzwo5",
        "outputId": "1f338270-6864-499f-baeb-c53af5ac9155"
      },
      "execution_count": 2,
      "outputs": [
        {
          "output_type": "display_data",
          "data": {
            "text/plain": [
              "<IPython.core.display.HTML object>"
            ],
            "text/html": [
              "\n",
              "     <input type=\"file\" id=\"files-e3b251f4-476b-4340-a8e4-2e12d313c0cb\" name=\"files[]\" multiple disabled\n",
              "        style=\"border:none\" />\n",
              "     <output id=\"result-e3b251f4-476b-4340-a8e4-2e12d313c0cb\">\n",
              "      Upload widget is only available when the cell has been executed in the\n",
              "      current browser session. Please rerun this cell to enable.\n",
              "      </output>\n",
              "      <script>// Copyright 2017 Google LLC\n",
              "//\n",
              "// Licensed under the Apache License, Version 2.0 (the \"License\");\n",
              "// you may not use this file except in compliance with the License.\n",
              "// You may obtain a copy of the License at\n",
              "//\n",
              "//      http://www.apache.org/licenses/LICENSE-2.0\n",
              "//\n",
              "// Unless required by applicable law or agreed to in writing, software\n",
              "// distributed under the License is distributed on an \"AS IS\" BASIS,\n",
              "// WITHOUT WARRANTIES OR CONDITIONS OF ANY KIND, either express or implied.\n",
              "// See the License for the specific language governing permissions and\n",
              "// limitations under the License.\n",
              "\n",
              "/**\n",
              " * @fileoverview Helpers for google.colab Python module.\n",
              " */\n",
              "(function(scope) {\n",
              "function span(text, styleAttributes = {}) {\n",
              "  const element = document.createElement('span');\n",
              "  element.textContent = text;\n",
              "  for (const key of Object.keys(styleAttributes)) {\n",
              "    element.style[key] = styleAttributes[key];\n",
              "  }\n",
              "  return element;\n",
              "}\n",
              "\n",
              "// Max number of bytes which will be uploaded at a time.\n",
              "const MAX_PAYLOAD_SIZE = 100 * 1024;\n",
              "\n",
              "function _uploadFiles(inputId, outputId) {\n",
              "  const steps = uploadFilesStep(inputId, outputId);\n",
              "  const outputElement = document.getElementById(outputId);\n",
              "  // Cache steps on the outputElement to make it available for the next call\n",
              "  // to uploadFilesContinue from Python.\n",
              "  outputElement.steps = steps;\n",
              "\n",
              "  return _uploadFilesContinue(outputId);\n",
              "}\n",
              "\n",
              "// This is roughly an async generator (not supported in the browser yet),\n",
              "// where there are multiple asynchronous steps and the Python side is going\n",
              "// to poll for completion of each step.\n",
              "// This uses a Promise to block the python side on completion of each step,\n",
              "// then passes the result of the previous step as the input to the next step.\n",
              "function _uploadFilesContinue(outputId) {\n",
              "  const outputElement = document.getElementById(outputId);\n",
              "  const steps = outputElement.steps;\n",
              "\n",
              "  const next = steps.next(outputElement.lastPromiseValue);\n",
              "  return Promise.resolve(next.value.promise).then((value) => {\n",
              "    // Cache the last promise value to make it available to the next\n",
              "    // step of the generator.\n",
              "    outputElement.lastPromiseValue = value;\n",
              "    return next.value.response;\n",
              "  });\n",
              "}\n",
              "\n",
              "/**\n",
              " * Generator function which is called between each async step of the upload\n",
              " * process.\n",
              " * @param {string} inputId Element ID of the input file picker element.\n",
              " * @param {string} outputId Element ID of the output display.\n",
              " * @return {!Iterable<!Object>} Iterable of next steps.\n",
              " */\n",
              "function* uploadFilesStep(inputId, outputId) {\n",
              "  const inputElement = document.getElementById(inputId);\n",
              "  inputElement.disabled = false;\n",
              "\n",
              "  const outputElement = document.getElementById(outputId);\n",
              "  outputElement.innerHTML = '';\n",
              "\n",
              "  const pickedPromise = new Promise((resolve) => {\n",
              "    inputElement.addEventListener('change', (e) => {\n",
              "      resolve(e.target.files);\n",
              "    });\n",
              "  });\n",
              "\n",
              "  const cancel = document.createElement('button');\n",
              "  inputElement.parentElement.appendChild(cancel);\n",
              "  cancel.textContent = 'Cancel upload';\n",
              "  const cancelPromise = new Promise((resolve) => {\n",
              "    cancel.onclick = () => {\n",
              "      resolve(null);\n",
              "    };\n",
              "  });\n",
              "\n",
              "  // Wait for the user to pick the files.\n",
              "  const files = yield {\n",
              "    promise: Promise.race([pickedPromise, cancelPromise]),\n",
              "    response: {\n",
              "      action: 'starting',\n",
              "    }\n",
              "  };\n",
              "\n",
              "  cancel.remove();\n",
              "\n",
              "  // Disable the input element since further picks are not allowed.\n",
              "  inputElement.disabled = true;\n",
              "\n",
              "  if (!files) {\n",
              "    return {\n",
              "      response: {\n",
              "        action: 'complete',\n",
              "      }\n",
              "    };\n",
              "  }\n",
              "\n",
              "  for (const file of files) {\n",
              "    const li = document.createElement('li');\n",
              "    li.append(span(file.name, {fontWeight: 'bold'}));\n",
              "    li.append(span(\n",
              "        `(${file.type || 'n/a'}) - ${file.size} bytes, ` +\n",
              "        `last modified: ${\n",
              "            file.lastModifiedDate ? file.lastModifiedDate.toLocaleDateString() :\n",
              "                                    'n/a'} - `));\n",
              "    const percent = span('0% done');\n",
              "    li.appendChild(percent);\n",
              "\n",
              "    outputElement.appendChild(li);\n",
              "\n",
              "    const fileDataPromise = new Promise((resolve) => {\n",
              "      const reader = new FileReader();\n",
              "      reader.onload = (e) => {\n",
              "        resolve(e.target.result);\n",
              "      };\n",
              "      reader.readAsArrayBuffer(file);\n",
              "    });\n",
              "    // Wait for the data to be ready.\n",
              "    let fileData = yield {\n",
              "      promise: fileDataPromise,\n",
              "      response: {\n",
              "        action: 'continue',\n",
              "      }\n",
              "    };\n",
              "\n",
              "    // Use a chunked sending to avoid message size limits. See b/62115660.\n",
              "    let position = 0;\n",
              "    do {\n",
              "      const length = Math.min(fileData.byteLength - position, MAX_PAYLOAD_SIZE);\n",
              "      const chunk = new Uint8Array(fileData, position, length);\n",
              "      position += length;\n",
              "\n",
              "      const base64 = btoa(String.fromCharCode.apply(null, chunk));\n",
              "      yield {\n",
              "        response: {\n",
              "          action: 'append',\n",
              "          file: file.name,\n",
              "          data: base64,\n",
              "        },\n",
              "      };\n",
              "\n",
              "      let percentDone = fileData.byteLength === 0 ?\n",
              "          100 :\n",
              "          Math.round((position / fileData.byteLength) * 100);\n",
              "      percent.textContent = `${percentDone}% done`;\n",
              "\n",
              "    } while (position < fileData.byteLength);\n",
              "  }\n",
              "\n",
              "  // All done.\n",
              "  yield {\n",
              "    response: {\n",
              "      action: 'complete',\n",
              "    }\n",
              "  };\n",
              "}\n",
              "\n",
              "scope.google = scope.google || {};\n",
              "scope.google.colab = scope.google.colab || {};\n",
              "scope.google.colab._files = {\n",
              "  _uploadFiles,\n",
              "  _uploadFilesContinue,\n",
              "};\n",
              "})(self);\n",
              "</script> "
            ]
          },
          "metadata": {}
        },
        {
          "output_type": "stream",
          "name": "stdout",
          "text": [
            "Saving Theses complete data.csv to Theses complete data.csv\n"
          ]
        }
      ]
    },
    {
      "cell_type": "code",
      "source": [
        "df = pd.read_csv(\"Theses complete data.csv\")\n",
        "data = df.values\n",
        "df.head()"
      ],
      "metadata": {
        "colab": {
          "base_uri": "https://localhost:8080/",
          "height": 354
        },
        "id": "FmMdOnP71MgF",
        "outputId": "1e3fb9f6-c9d4-45cb-c6ec-3ff3fb2b6f9e"
      },
      "execution_count": 3,
      "outputs": [
        {
          "output_type": "execute_result",
          "data": {
            "text/plain": [
              "   YEAR  GDP per capita (current US$)  \\\n",
              "0  1971                    451.694009   \n",
              "1  1972                    497.240127   \n",
              "2  1973                    617.167676   \n",
              "3  1974                    784.227147   \n",
              "4  1975                    844.409778   \n",
              "\n",
              "   Electricity production from renewable sources, excluding hydroelectric (kWh)  \\\n",
              "0                                        163000000.0                              \n",
              "1                                        165000000.0                              \n",
              "2                                        170000000.0                              \n",
              "3                                        175000000.0                              \n",
              "4                                        172000000.0                              \n",
              "\n",
              "   Access to electricity (% of population)  \\\n",
              "0                                      NaN   \n",
              "1                                      NaN   \n",
              "2                                      NaN   \n",
              "3                                      NaN   \n",
              "4                                      NaN   \n",
              "\n",
              "   Total greenhouse gas emissions (kt of CO2 equivalent)  Population, total  \\\n",
              "0                                                NaN              298284475   \n",
              "1                                                NaN              306359650   \n",
              "2                                                NaN              314761504   \n",
              "3                                                NaN              323500333   \n",
              "4                                                NaN              332583481   \n",
              "\n",
              "   Current health expenditure per capita (current US$)  \\\n",
              "0                                                NaN     \n",
              "1                                                NaN     \n",
              "2                                                NaN     \n",
              "3                                                NaN     \n",
              "4                                                NaN     \n",
              "\n",
              "   Government expenditure on education, total (% of GDP)  \\\n",
              "0                                                NaN       \n",
              "1                                                NaN       \n",
              "2                                                NaN       \n",
              "3                                                NaN       \n",
              "4                                                NaN       \n",
              "\n",
              "   Inflation, consumer prices (annual %)  \\\n",
              "0                                    NaN   \n",
              "1                                    NaN   \n",
              "2                                    NaN   \n",
              "3                              19.598394   \n",
              "4                              15.224099   \n",
              "\n",
              "   Employment to population ratio, 15+, total (%) (modeled ILO estimate)  \n",
              "0                                                NaN                      \n",
              "1                                                NaN                      \n",
              "2                                                NaN                      \n",
              "3                                                NaN                      \n",
              "4                                                NaN                      "
            ],
            "text/html": [
              "\n",
              "  <div id=\"df-75e383d1-cc73-4119-a65b-5cbd7ee7afb6\">\n",
              "    <div class=\"colab-df-container\">\n",
              "      <div>\n",
              "<style scoped>\n",
              "    .dataframe tbody tr th:only-of-type {\n",
              "        vertical-align: middle;\n",
              "    }\n",
              "\n",
              "    .dataframe tbody tr th {\n",
              "        vertical-align: top;\n",
              "    }\n",
              "\n",
              "    .dataframe thead th {\n",
              "        text-align: right;\n",
              "    }\n",
              "</style>\n",
              "<table border=\"1\" class=\"dataframe\">\n",
              "  <thead>\n",
              "    <tr style=\"text-align: right;\">\n",
              "      <th></th>\n",
              "      <th>YEAR</th>\n",
              "      <th>GDP per capita (current US$)</th>\n",
              "      <th>Electricity production from renewable sources, excluding hydroelectric (kWh)</th>\n",
              "      <th>Access to electricity (% of population)</th>\n",
              "      <th>Total greenhouse gas emissions (kt of CO2 equivalent)</th>\n",
              "      <th>Population, total</th>\n",
              "      <th>Current health expenditure per capita (current US$)</th>\n",
              "      <th>Government expenditure on education, total (% of GDP)</th>\n",
              "      <th>Inflation, consumer prices (annual %)</th>\n",
              "      <th>Employment to population ratio, 15+, total (%) (modeled ILO estimate)</th>\n",
              "    </tr>\n",
              "  </thead>\n",
              "  <tbody>\n",
              "    <tr>\n",
              "      <th>0</th>\n",
              "      <td>1971</td>\n",
              "      <td>451.694009</td>\n",
              "      <td>163000000.0</td>\n",
              "      <td>NaN</td>\n",
              "      <td>NaN</td>\n",
              "      <td>298284475</td>\n",
              "      <td>NaN</td>\n",
              "      <td>NaN</td>\n",
              "      <td>NaN</td>\n",
              "      <td>NaN</td>\n",
              "    </tr>\n",
              "    <tr>\n",
              "      <th>1</th>\n",
              "      <td>1972</td>\n",
              "      <td>497.240127</td>\n",
              "      <td>165000000.0</td>\n",
              "      <td>NaN</td>\n",
              "      <td>NaN</td>\n",
              "      <td>306359650</td>\n",
              "      <td>NaN</td>\n",
              "      <td>NaN</td>\n",
              "      <td>NaN</td>\n",
              "      <td>NaN</td>\n",
              "    </tr>\n",
              "    <tr>\n",
              "      <th>2</th>\n",
              "      <td>1973</td>\n",
              "      <td>617.167676</td>\n",
              "      <td>170000000.0</td>\n",
              "      <td>NaN</td>\n",
              "      <td>NaN</td>\n",
              "      <td>314761504</td>\n",
              "      <td>NaN</td>\n",
              "      <td>NaN</td>\n",
              "      <td>NaN</td>\n",
              "      <td>NaN</td>\n",
              "    </tr>\n",
              "    <tr>\n",
              "      <th>3</th>\n",
              "      <td>1974</td>\n",
              "      <td>784.227147</td>\n",
              "      <td>175000000.0</td>\n",
              "      <td>NaN</td>\n",
              "      <td>NaN</td>\n",
              "      <td>323500333</td>\n",
              "      <td>NaN</td>\n",
              "      <td>NaN</td>\n",
              "      <td>19.598394</td>\n",
              "      <td>NaN</td>\n",
              "    </tr>\n",
              "    <tr>\n",
              "      <th>4</th>\n",
              "      <td>1975</td>\n",
              "      <td>844.409778</td>\n",
              "      <td>172000000.0</td>\n",
              "      <td>NaN</td>\n",
              "      <td>NaN</td>\n",
              "      <td>332583481</td>\n",
              "      <td>NaN</td>\n",
              "      <td>NaN</td>\n",
              "      <td>15.224099</td>\n",
              "      <td>NaN</td>\n",
              "    </tr>\n",
              "  </tbody>\n",
              "</table>\n",
              "</div>\n",
              "      <button class=\"colab-df-convert\" onclick=\"convertToInteractive('df-75e383d1-cc73-4119-a65b-5cbd7ee7afb6')\"\n",
              "              title=\"Convert this dataframe to an interactive table.\"\n",
              "              style=\"display:none;\">\n",
              "        \n",
              "  <svg xmlns=\"http://www.w3.org/2000/svg\" height=\"24px\"viewBox=\"0 0 24 24\"\n",
              "       width=\"24px\">\n",
              "    <path d=\"M0 0h24v24H0V0z\" fill=\"none\"/>\n",
              "    <path d=\"M18.56 5.44l.94 2.06.94-2.06 2.06-.94-2.06-.94-.94-2.06-.94 2.06-2.06.94zm-11 1L8.5 8.5l.94-2.06 2.06-.94-2.06-.94L8.5 2.5l-.94 2.06-2.06.94zm10 10l.94 2.06.94-2.06 2.06-.94-2.06-.94-.94-2.06-.94 2.06-2.06.94z\"/><path d=\"M17.41 7.96l-1.37-1.37c-.4-.4-.92-.59-1.43-.59-.52 0-1.04.2-1.43.59L10.3 9.45l-7.72 7.72c-.78.78-.78 2.05 0 2.83L4 21.41c.39.39.9.59 1.41.59.51 0 1.02-.2 1.41-.59l7.78-7.78 2.81-2.81c.8-.78.8-2.07 0-2.86zM5.41 20L4 18.59l7.72-7.72 1.47 1.35L5.41 20z\"/>\n",
              "  </svg>\n",
              "      </button>\n",
              "      \n",
              "  <style>\n",
              "    .colab-df-container {\n",
              "      display:flex;\n",
              "      flex-wrap:wrap;\n",
              "      gap: 12px;\n",
              "    }\n",
              "\n",
              "    .colab-df-convert {\n",
              "      background-color: #E8F0FE;\n",
              "      border: none;\n",
              "      border-radius: 50%;\n",
              "      cursor: pointer;\n",
              "      display: none;\n",
              "      fill: #1967D2;\n",
              "      height: 32px;\n",
              "      padding: 0 0 0 0;\n",
              "      width: 32px;\n",
              "    }\n",
              "\n",
              "    .colab-df-convert:hover {\n",
              "      background-color: #E2EBFA;\n",
              "      box-shadow: 0px 1px 2px rgba(60, 64, 67, 0.3), 0px 1px 3px 1px rgba(60, 64, 67, 0.15);\n",
              "      fill: #174EA6;\n",
              "    }\n",
              "\n",
              "    [theme=dark] .colab-df-convert {\n",
              "      background-color: #3B4455;\n",
              "      fill: #D2E3FC;\n",
              "    }\n",
              "\n",
              "    [theme=dark] .colab-df-convert:hover {\n",
              "      background-color: #434B5C;\n",
              "      box-shadow: 0px 1px 3px 1px rgba(0, 0, 0, 0.15);\n",
              "      filter: drop-shadow(0px 1px 2px rgba(0, 0, 0, 0.3));\n",
              "      fill: #FFFFFF;\n",
              "    }\n",
              "  </style>\n",
              "\n",
              "      <script>\n",
              "        const buttonEl =\n",
              "          document.querySelector('#df-75e383d1-cc73-4119-a65b-5cbd7ee7afb6 button.colab-df-convert');\n",
              "        buttonEl.style.display =\n",
              "          google.colab.kernel.accessAllowed ? 'block' : 'none';\n",
              "\n",
              "        async function convertToInteractive(key) {\n",
              "          const element = document.querySelector('#df-75e383d1-cc73-4119-a65b-5cbd7ee7afb6');\n",
              "          const dataTable =\n",
              "            await google.colab.kernel.invokeFunction('convertToInteractive',\n",
              "                                                     [key], {});\n",
              "          if (!dataTable) return;\n",
              "\n",
              "          const docLinkHtml = 'Like what you see? Visit the ' +\n",
              "            '<a target=\"_blank\" href=https://colab.research.google.com/notebooks/data_table.ipynb>data table notebook</a>'\n",
              "            + ' to learn more about interactive tables.';\n",
              "          element.innerHTML = '';\n",
              "          dataTable['output_type'] = 'display_data';\n",
              "          await google.colab.output.renderOutput(dataTable, element);\n",
              "          const docLink = document.createElement('div');\n",
              "          docLink.innerHTML = docLinkHtml;\n",
              "          element.appendChild(docLink);\n",
              "        }\n",
              "      </script>\n",
              "    </div>\n",
              "  </div>\n",
              "  "
            ]
          },
          "metadata": {},
          "execution_count": 3
        }
      ]
    },
    {
      "cell_type": "markdown",
      "source": [
        "# (A) DATA WRANGLING"
      ],
      "metadata": {
        "id": "tlmyzq_E1Zr4"
      }
    },
    {
      "cell_type": "code",
      "source": [
        "df.info()"
      ],
      "metadata": {
        "colab": {
          "base_uri": "https://localhost:8080/"
        },
        "id": "MZXMSEdB1S4e",
        "outputId": "5a80e64e-7a01-4678-ee95-f9e64942185d"
      },
      "execution_count": 4,
      "outputs": [
        {
          "output_type": "stream",
          "name": "stdout",
          "text": [
            "<class 'pandas.core.frame.DataFrame'>\n",
            "RangeIndex: 51 entries, 0 to 50\n",
            "Data columns (total 10 columns):\n",
            " #   Column                                                                        Non-Null Count  Dtype  \n",
            "---  ------                                                                        --------------  -----  \n",
            " 0   YEAR                                                                          51 non-null     int64  \n",
            " 1   GDP per capita (current US$)                                                  51 non-null     float64\n",
            " 2   Electricity production from renewable sources, excluding hydroelectric (kWh)  45 non-null     float64\n",
            " 3   Access to electricity (% of population)                                       28 non-null     float64\n",
            " 4   Total greenhouse gas emissions (kt of CO2 equivalent)                         30 non-null     float64\n",
            " 5   Population, total                                                             51 non-null     int64  \n",
            " 6   Current health expenditure per capita (current US$)                           20 non-null     float64\n",
            " 7   Government expenditure on education, total (% of GDP)                         23 non-null     float64\n",
            " 8   Inflation, consumer prices (annual %)                                         48 non-null     float64\n",
            " 9   Employment to population ratio, 15+, total (%) (modeled ILO estimate)         31 non-null     float64\n",
            "dtypes: float64(8), int64(2)\n",
            "memory usage: 4.1 KB\n"
          ]
        }
      ]
    },
    {
      "cell_type": "markdown",
      "source": [
        "USING kNN's MULTIVARIATE METHOD FOR IMPUTATION OF MISSING VALUES"
      ],
      "metadata": {
        "id": "ZrKI-kFC1370"
      }
    },
    {
      "cell_type": "code",
      "source": [
        "#Multivariate imputation\n",
        "from sklearn.experimental import enable_iterative_imputer\n",
        "from sklearn.impute import IterativeImputer\n",
        "imp = IterativeImputer(max_iter=10, random_state=0) #model NaNs in round-robin fashion\n",
        "imp.fit(data)\n",
        "\n",
        "x_prep = data[:,:]\n",
        "clean = np.round(imp.transform(x_prep))"
      ],
      "metadata": {
        "id": "zsvDldlL15O3"
      },
      "execution_count": 5,
      "outputs": []
    },
    {
      "cell_type": "code",
      "source": [
        "print('Array:', clean[0:2])"
      ],
      "metadata": {
        "colab": {
          "base_uri": "https://localhost:8080/"
        },
        "id": "1JSEwL5r2Fm5",
        "outputId": "201e2bce-97e8-4309-b7df-95167ff409bd"
      },
      "execution_count": 6,
      "outputs": [
        {
          "output_type": "stream",
          "name": "stdout",
          "text": [
            "Array: [[1.97100000e+03 4.52000000e+02 1.63000000e+08 0.00000000e+00\n",
            "  8.70753000e+05 2.98284475e+08 1.90000000e+01 4.00000000e+00\n",
            "  1.90000000e+01 1.34000000e+02]\n",
            " [1.97200000e+03 4.97000000e+02 1.65000000e+08 1.00000000e+00\n",
            "  8.85610000e+05 3.06359650e+08 2.20000000e+01 4.00000000e+00\n",
            "  1.90000000e+01 1.34000000e+02]]\n"
          ]
        }
      ]
    },
    {
      "cell_type": "code",
      "source": [
        "#Turn our data back to pandas\n",
        "clean = pd.DataFrame(clean, columns = ['YEAR', 'GDP per capita (current US$)',\t'Electricity production from renewable sources, excluding hydroelectric (kWh)',\t'Access to electricity (% of population)',\t'Total greenhouse gas emissions (kt of CO2 equivalent)',\t'Population, total',\t'Current health expenditure per capita (current US$)',\t'Government expenditure on education, total (% of GDP)',\t'Inflation, consumer prices (annual %)',\t'Employment to population ratio, 15+, total (%) (modeled ILO estimate)'])\n",
        "print(clean.head)"
      ],
      "metadata": {
        "colab": {
          "base_uri": "https://localhost:8080/"
        },
        "id": "pDLVJqBA9SYN",
        "outputId": "7a628098-dba6-4965-91ed-b9f93ffe3983"
      },
      "execution_count": 7,
      "outputs": [
        {
          "output_type": "stream",
          "name": "stdout",
          "text": [
            "<bound method NDFrame.head of       YEAR  GDP per capita (current US$)  \\\n",
            "0   1971.0                         452.0   \n",
            "1   1972.0                         497.0   \n",
            "2   1973.0                         617.0   \n",
            "3   1974.0                         784.0   \n",
            "4   1975.0                         844.0   \n",
            "5   1976.0                         895.0   \n",
            "6   1977.0                         952.0   \n",
            "7   1978.0                        1021.0   \n",
            "8   1979.0                        1194.0   \n",
            "9   1980.0                        1469.0   \n",
            "10  1981.0                        2062.0   \n",
            "11  1982.0                        1831.0   \n",
            "12  1983.0                        1521.0   \n",
            "13  1984.0                        1283.0   \n",
            "14  1985.0                        1169.0   \n",
            "15  1986.0                        1148.0   \n",
            "16  1987.0                        1251.0   \n",
            "17  1988.0                        1271.0   \n",
            "18  1989.0                        1245.0   \n",
            "19  1990.0                        1426.0   \n",
            "20  1991.0                        1431.0   \n",
            "21  1992.0                        1287.0   \n",
            "22  1993.0                        1160.0   \n",
            "23  1994.0                        1084.0   \n",
            "24  1995.0                        1234.0   \n",
            "25  1996.0                        1272.0   \n",
            "26  1997.0                        1281.0   \n",
            "27  1998.0                        1217.0   \n",
            "28  1999.0                        1204.0   \n",
            "29  2000.0                        1239.0   \n",
            "30  2001.0                        1173.0   \n",
            "31  2002.0                        1260.0   \n",
            "32  2003.0                        1527.0   \n",
            "33  2004.0                        1848.0   \n",
            "34  2005.0                        2146.0   \n",
            "35  2006.0                        2490.0   \n",
            "36  2007.0                        2814.0   \n",
            "37  2008.0                        3149.0   \n",
            "38  2009.0                        2912.0   \n",
            "39  2010.0                        3347.0   \n",
            "40  2011.0                        3673.0   \n",
            "41  2012.0                        3742.0   \n",
            "42  2013.0                        3906.0   \n",
            "43  2014.0                        3949.0   \n",
            "44  2015.0                        3451.0   \n",
            "45  2016.0                        3120.0   \n",
            "46  2017.0                        3243.0   \n",
            "47  2018.0                        3245.0   \n",
            "48  2019.0                        3289.0   \n",
            "49  2020.0                        3071.0   \n",
            "50  2021.0                        3333.0   \n",
            "\n",
            "    Electricity production from renewable sources, excluding hydroelectric (kWh)  \\\n",
            "0                                        1.630000e+08                              \n",
            "1                                        1.650000e+08                              \n",
            "2                                        1.700000e+08                              \n",
            "3                                        1.750000e+08                              \n",
            "4                                        1.720000e+08                              \n",
            "5                                        1.850000e+08                              \n",
            "6                                        1.890000e+08                              \n",
            "7                                        1.950000e+08                              \n",
            "8                                        2.010000e+08                              \n",
            "9                                        2.070000e+08                              \n",
            "10                                       2.170000e+08                              \n",
            "11                                       2.370000e+08                              \n",
            "12                                       2.310000e+08                              \n",
            "13                                       2.340000e+08                              \n",
            "14                                       2.690000e+08                              \n",
            "15                                       6.590000e+08                              \n",
            "16                                       6.580000e+08                              \n",
            "17                                       6.260000e+08                              \n",
            "18                                       6.170000e+08                              \n",
            "19                                       7.320000e+08                              \n",
            "20                                       7.380000e+08                              \n",
            "21                                       7.300000e+08                              \n",
            "22                                       7.150000e+08                              \n",
            "23                                       6.000000e+08                              \n",
            "24                                       7.450000e+08                              \n",
            "25                                       8.540000e+08                              \n",
            "26                                       9.400000e+08                              \n",
            "27                                       1.146000e+09                              \n",
            "28                                       1.079000e+09                              \n",
            "29                                       1.361000e+09                              \n",
            "30                                       1.460000e+09                              \n",
            "31                                       1.298000e+09                              \n",
            "32                                       1.690000e+09                              \n",
            "33                                       2.064000e+09                              \n",
            "34                                       2.043000e+09                              \n",
            "35                                       2.799000e+09                              \n",
            "36                                       2.226000e+09                              \n",
            "37                                       2.442000e+09                              \n",
            "38                                       2.676000e+09                              \n",
            "39                                       2.914000e+09                              \n",
            "40                                       2.981000e+09                              \n",
            "41                                       3.254000e+09                              \n",
            "42                                       3.891000e+09                              \n",
            "43                                       7.920000e+09                              \n",
            "44                                       1.120600e+10                              \n",
            "45                                       4.868354e+09                              \n",
            "46                                       5.082256e+09                              \n",
            "47                                       5.300215e+09                              \n",
            "48                                       5.521903e+09                              \n",
            "49                                       5.747078e+09                              \n",
            "50                                       5.975569e+09                              \n",
            "\n",
            "    Access to electricity (% of population)  \\\n",
            "0                                       0.0   \n",
            "1                                       1.0   \n",
            "2                                       2.0   \n",
            "3                                       3.0   \n",
            "4                                       5.0   \n",
            "5                                       6.0   \n",
            "6                                       7.0   \n",
            "7                                       8.0   \n",
            "8                                      10.0   \n",
            "9                                      11.0   \n",
            "10                                     12.0   \n",
            "11                                     14.0   \n",
            "12                                     15.0   \n",
            "13                                     17.0   \n",
            "14                                     19.0   \n",
            "15                                     20.0   \n",
            "16                                     21.0   \n",
            "17                                     23.0   \n",
            "18                                     25.0   \n",
            "19                                     25.0   \n",
            "20                                     28.0   \n",
            "21                                     30.0   \n",
            "22                                     32.0   \n",
            "23                                     33.0   \n",
            "24                                     34.0   \n",
            "25                                     33.0   \n",
            "26                                     33.0   \n",
            "27                                     34.0   \n",
            "28                                     35.0   \n",
            "29                                     54.0   \n",
            "30                                     55.0   \n",
            "31                                     57.0   \n",
            "32                                     62.0   \n",
            "33                                     61.0   \n",
            "34                                     61.0   \n",
            "35                                     65.0   \n",
            "36                                     68.0   \n",
            "37                                     68.0   \n",
            "38                                     68.0   \n",
            "39                                     69.0   \n",
            "40                                     75.0   \n",
            "41                                     76.0   \n",
            "42                                     79.0   \n",
            "43                                     80.0   \n",
            "44                                     81.0   \n",
            "45                                     90.0   \n",
            "46                                     89.0   \n",
            "47                                     94.0   \n",
            "48                                     96.0   \n",
            "49                                     98.0   \n",
            "50                                    106.0   \n",
            "\n",
            "    Total greenhouse gas emissions (kt of CO2 equivalent)  Population, total  \\\n",
            "0                                            870753.0           2.982845e+08   \n",
            "1                                            885610.0           3.063596e+08   \n",
            "2                                            901056.0           3.147615e+08   \n",
            "3                                            917123.0           3.235003e+08   \n",
            "4                                            933856.0           3.325835e+08   \n",
            "5                                            951172.0           3.420189e+08   \n",
            "6                                            969178.0           3.518088e+08   \n",
            "7                                            987803.0           3.619395e+08   \n",
            "8                                           1007043.0           3.724042e+08   \n",
            "9                                           1026870.0           3.831882e+08   \n",
            "10                                          1047252.0           3.942820e+08   \n",
            "11                                          1068169.0           4.056889e+08   \n",
            "12                                          1089799.0           4.174257e+08   \n",
            "13                                          1112054.0           4.295219e+08   \n",
            "14                                          1134861.0           4.419880e+08   \n",
            "15                                          1156937.0           4.548357e+08   \n",
            "16                                          1181272.0           4.680531e+08   \n",
            "17                                          1206329.0           4.815943e+08   \n",
            "18                                          1231793.0           4.954074e+08   \n",
            "19                                          1205320.0           5.094519e+08   \n",
            "20                                          1245880.0           5.237270e+08   \n",
            "21                                          1273220.0           5.382464e+08   \n",
            "22                                          1285700.0           5.530204e+08   \n",
            "23                                          1363310.0           5.680721e+08   \n",
            "24                                          1399470.0           5.834133e+08   \n",
            "25                                          1444160.0           5.990678e+08   \n",
            "26                                          1469780.0           6.150543e+08   \n",
            "27                                          1505610.0           6.314007e+08   \n",
            "28                                          1488130.0           6.481483e+08   \n",
            "29                                          1515390.0           6.653276e+08   \n",
            "30                                          1557540.0           6.829560e+08   \n",
            "31                                          1593790.0           7.010662e+08   \n",
            "32                                          1667500.0           7.197162e+08   \n",
            "33                                          1716290.0           7.389832e+08   \n",
            "34                                          1766230.0           7.589247e+08   \n",
            "35                                          1760770.0           7.795668e+08   \n",
            "36                                          1817820.0           8.009086e+08   \n",
            "37                                          1890890.0           8.229455e+08   \n",
            "38                                          1864590.0           8.456552e+08   \n",
            "39                                          1963590.0           8.690251e+08   \n",
            "40                                          1986760.0           8.930459e+08   \n",
            "41                                          2010270.0           9.177259e+08   \n",
            "42                                          2061390.0           9.430395e+08   \n",
            "43                                          2109330.0           9.689584e+08   \n",
            "44                                          2118020.0           9.954585e+08   \n",
            "45                                          2167420.0           1.022530e+09   \n",
            "46                                          2191950.0           1.050163e+09   \n",
            "47                                          2220470.0           1.078320e+09   \n",
            "48                                          2261020.0           1.106958e+09   \n",
            "49                                          2390393.0           1.136047e+09   \n",
            "50                                          2443806.0           1.165564e+09   \n",
            "\n",
            "    Current health expenditure per capita (current US$)  \\\n",
            "0                                                19.0     \n",
            "1                                                22.0     \n",
            "2                                                27.0     \n",
            "3                                                35.0     \n",
            "4                                                37.0     \n",
            "5                                                40.0     \n",
            "6                                                43.0     \n",
            "7                                                46.0     \n",
            "8                                                54.0     \n",
            "9                                                66.0     \n",
            "10                                               92.0     \n",
            "11                                               82.0     \n",
            "12                                               70.0     \n",
            "13                                               60.0     \n",
            "14                                               55.0     \n",
            "15                                               55.0     \n",
            "16                                               60.0     \n",
            "17                                               61.0     \n",
            "18                                               60.0     \n",
            "19                                               62.0     \n",
            "20                                               65.0     \n",
            "21                                               59.0     \n",
            "22                                               53.0     \n",
            "23                                               56.0     \n",
            "24                                               64.0     \n",
            "25                                               68.0     \n",
            "26                                               68.0     \n",
            "27                                               67.0     \n",
            "28                                               61.0     \n",
            "29                                               65.0     \n",
            "30                                               60.0     \n",
            "31                                               58.0     \n",
            "32                                               86.0     \n",
            "33                                              102.0     \n",
            "34                                              115.0     \n",
            "35                                              128.0     \n",
            "36                                              142.0     \n",
            "37                                              153.0     \n",
            "38                                              151.0     \n",
            "39                                              169.0     \n",
            "40                                              187.0     \n",
            "41                                              184.0     \n",
            "42                                              190.0     \n",
            "43                                              186.0     \n",
            "44                                              172.0     \n",
            "45                                              158.0     \n",
            "46                                              163.0     \n",
            "47                                              156.0     \n",
            "48                                              153.0     \n",
            "49                                              159.0     \n",
            "50                                              172.0     \n",
            "\n",
            "    Government expenditure on education, total (% of GDP)  \\\n",
            "0                                                 4.0       \n",
            "1                                                 4.0       \n",
            "2                                                 4.0       \n",
            "3                                                 4.0       \n",
            "4                                                 4.0       \n",
            "5                                                 4.0       \n",
            "6                                                 4.0       \n",
            "7                                                 4.0       \n",
            "8                                                 4.0       \n",
            "9                                                 4.0       \n",
            "10                                                5.0       \n",
            "11                                                4.0       \n",
            "12                                                4.0       \n",
            "13                                                4.0       \n",
            "14                                                4.0       \n",
            "15                                                4.0       \n",
            "16                                                4.0       \n",
            "17                                                5.0       \n",
            "18                                                5.0       \n",
            "19                                                5.0       \n",
            "20                                                5.0       \n",
            "21                                                5.0       \n",
            "22                                                5.0       \n",
            "23                                                5.0       \n",
            "24                                                5.0       \n",
            "25                                                5.0       \n",
            "26                                                5.0       \n",
            "27                                                5.0       \n",
            "28                                                7.0       \n",
            "29                                                6.0       \n",
            "30                                                7.0       \n",
            "31                                                3.0       \n",
            "32                                                3.0       \n",
            "33                                                6.0       \n",
            "34                                                7.0       \n",
            "35                                                6.0       \n",
            "36                                                3.0       \n",
            "37                                                7.0       \n",
            "38                                                7.0       \n",
            "39                                                8.0       \n",
            "40                                                7.0       \n",
            "41                                                8.0       \n",
            "42                                                8.0       \n",
            "43                                                8.0       \n",
            "44                                                8.0       \n",
            "45                                                8.0       \n",
            "46                                                8.0       \n",
            "47                                                8.0       \n",
            "48                                                8.0       \n",
            "49                                                8.0       \n",
            "50                                                8.0       \n",
            "\n",
            "    Inflation, consumer prices (annual %)  \\\n",
            "0                                    19.0   \n",
            "1                                    19.0   \n",
            "2                                    19.0   \n",
            "3                                    20.0   \n",
            "4                                    15.0   \n",
            "5                                    11.0   \n",
            "6                                    14.0   \n",
            "7                                    13.0   \n",
            "8                                    15.0   \n",
            "9                                    15.0   \n",
            "10                                   23.0   \n",
            "11                                   24.0   \n",
            "12                                   22.0   \n",
            "13                                   22.0   \n",
            "14                                   20.0   \n",
            "15                                   20.0   \n",
            "16                                   13.0   \n",
            "17                                   15.0   \n",
            "18                                   13.0   \n",
            "19                                   14.0   \n",
            "20                                   19.0   \n",
            "21                                   16.0   \n",
            "22                                   14.0   \n",
            "23                                   47.0   \n",
            "24                                   23.0   \n",
            "25                                   15.0   \n",
            "26                                   14.0   \n",
            "27                                   12.0   \n",
            "28                                    8.0   \n",
            "29                                   11.0   \n",
            "30                                   10.0   \n",
            "31                                   12.0   \n",
            "32                                    9.0   \n",
            "33                                    6.0   \n",
            "34                                   14.0   \n",
            "35                                   13.0   \n",
            "36                                   12.0   \n",
            "37                                   21.0   \n",
            "38                                   12.0   \n",
            "39                                    7.0   \n",
            "40                                   13.0   \n",
            "41                                   14.0   \n",
            "42                                    8.0   \n",
            "43                                    7.0   \n",
            "44                                    7.0   \n",
            "45                                    8.0   \n",
            "46                                    8.0   \n",
            "47                                    7.0   \n",
            "48                                    6.0   \n",
            "49                                    8.0   \n",
            "50                                   11.0   \n",
            "\n",
            "    Employment to population ratio, 15+, total (%) (modeled ILO estimate)  \n",
            "0                                               134.0                      \n",
            "1                                               134.0                      \n",
            "2                                               134.0                      \n",
            "3                                               134.0                      \n",
            "4                                               134.0                      \n",
            "5                                               134.0                      \n",
            "6                                               134.0                      \n",
            "7                                               134.0                      \n",
            "8                                               134.0                      \n",
            "9                                               134.0                      \n",
            "10                                              134.0                      \n",
            "11                                              134.0                      \n",
            "12                                              133.0                      \n",
            "13                                              133.0                      \n",
            "14                                              133.0                      \n",
            "15                                              132.0                      \n",
            "16                                              132.0                      \n",
            "17                                              132.0                      \n",
            "18                                              132.0                      \n",
            "19                                              131.0                      \n",
            "20                                              130.0                      \n",
            "21                                              130.0                      \n",
            "22                                              130.0                      \n",
            "23                                              130.0                      \n",
            "24                                              130.0                      \n",
            "25                                              129.0                      \n",
            "26                                              129.0                      \n",
            "27                                              129.0                      \n",
            "28                                              129.0                      \n",
            "29                                              129.0                      \n",
            "30                                              129.0                      \n",
            "31                                              129.0                      \n",
            "32                                              129.0                      \n",
            "33                                              129.0                      \n",
            "34                                              130.0                      \n",
            "35                                              129.0                      \n",
            "36                                              129.0                      \n",
            "37                                              129.0                      \n",
            "38                                              129.0                      \n",
            "39                                              128.0                      \n",
            "40                                              127.0                      \n",
            "41                                              126.0                      \n",
            "42                                              125.0                      \n",
            "43                                              125.0                      \n",
            "44                                              125.0                      \n",
            "45                                              124.0                      \n",
            "46                                              123.0                      \n",
            "47                                              123.0                      \n",
            "48                                              123.0                      \n",
            "49                                              119.0                      \n",
            "50                                              120.0                      >\n"
          ]
        }
      ]
    },
    {
      "cell_type": "markdown",
      "source": [
        "# (B) EXPLORATORY DATA ANALYSIS"
      ],
      "metadata": {
        "id": "yR5qsI4XnLi8"
      }
    },
    {
      "cell_type": "code",
      "source": [
        "# create timeseries plot\n",
        "import plotly.graph_objs as go\n",
        "import plotly.offline as py\n",
        "X=clean['YEAR']\n",
        "y=clean['GDP per capita (current US$)']\n",
        "layout = go.Layout(title= 'Sub-Saharan African GDP per capita PPP 1960-202021 current international $',\n",
        "    xaxis = dict(ticks='', nticks=43),\n",
        "    yaxis = dict(nticks=20))\n",
        "data = [go.Scatter(x=X,y=y)]\n",
        "fig =go.Figure(data=data, layout=layout)\n",
        "py.iplot(fig, filename='heatmap',show_link=False)\n"
      ],
      "metadata": {
        "colab": {
          "base_uri": "https://localhost:8080/",
          "height": 542
        },
        "id": "D93b5iIBO-XH",
        "outputId": "ce903a4a-1a9e-4bc3-cb37-116f50d8ee5b"
      },
      "execution_count": 8,
      "outputs": [
        {
          "output_type": "display_data",
          "data": {
            "text/html": [
              "<html>\n",
              "<head><meta charset=\"utf-8\" /></head>\n",
              "<body>\n",
              "    <div>            <script src=\"https://cdnjs.cloudflare.com/ajax/libs/mathjax/2.7.5/MathJax.js?config=TeX-AMS-MML_SVG\"></script><script type=\"text/javascript\">if (window.MathJax) {MathJax.Hub.Config({SVG: {font: \"STIX-Web\"}});}</script>                <script type=\"text/javascript\">window.PlotlyConfig = {MathJaxConfig: 'local'};</script>\n",
              "        <script src=\"https://cdn.plot.ly/plotly-2.8.3.min.js\"></script>                <div id=\"c709d138-c5a8-455f-850a-2c575d48d79f\" class=\"plotly-graph-div\" style=\"height:525px; width:100%;\"></div>            <script type=\"text/javascript\">                                    window.PLOTLYENV=window.PLOTLYENV || {};                                    if (document.getElementById(\"c709d138-c5a8-455f-850a-2c575d48d79f\")) {                    Plotly.newPlot(                        \"c709d138-c5a8-455f-850a-2c575d48d79f\",                        [{\"x\":[1971.0,1972.0,1973.0,1974.0,1975.0,1976.0,1977.0,1978.0,1979.0,1980.0,1981.0,1982.0,1983.0,1984.0,1985.0,1986.0,1987.0,1988.0,1989.0,1990.0,1991.0,1992.0,1993.0,1994.0,1995.0,1996.0,1997.0,1998.0,1999.0,2000.0,2001.0,2002.0,2003.0,2004.0,2005.0,2006.0,2007.0,2008.0,2009.0,2010.0,2011.0,2012.0,2013.0,2014.0,2015.0,2016.0,2017.0,2018.0,2019.0,2020.0,2021.0],\"y\":[452.0,497.0,617.0,784.0,844.0,895.0,952.0,1021.0,1194.0,1469.0,2062.0,1831.0,1521.0,1283.0,1169.0,1148.0,1251.0,1271.0,1245.0,1426.0,1431.0,1287.0,1160.0,1084.0,1234.0,1272.0,1281.0,1217.0,1204.0,1239.0,1173.0,1260.0,1527.0,1848.0,2146.0,2490.0,2814.0,3149.0,2912.0,3347.0,3673.0,3742.0,3906.0,3949.0,3451.0,3120.0,3243.0,3245.0,3289.0,3071.0,3333.0],\"type\":\"scatter\"}],                        {\"template\":{\"data\":{\"barpolar\":[{\"marker\":{\"line\":{\"color\":\"#E5ECF6\",\"width\":0.5},\"pattern\":{\"fillmode\":\"overlay\",\"size\":10,\"solidity\":0.2}},\"type\":\"barpolar\"}],\"bar\":[{\"error_x\":{\"color\":\"#2a3f5f\"},\"error_y\":{\"color\":\"#2a3f5f\"},\"marker\":{\"line\":{\"color\":\"#E5ECF6\",\"width\":0.5},\"pattern\":{\"fillmode\":\"overlay\",\"size\":10,\"solidity\":0.2}},\"type\":\"bar\"}],\"carpet\":[{\"aaxis\":{\"endlinecolor\":\"#2a3f5f\",\"gridcolor\":\"white\",\"linecolor\":\"white\",\"minorgridcolor\":\"white\",\"startlinecolor\":\"#2a3f5f\"},\"baxis\":{\"endlinecolor\":\"#2a3f5f\",\"gridcolor\":\"white\",\"linecolor\":\"white\",\"minorgridcolor\":\"white\",\"startlinecolor\":\"#2a3f5f\"},\"type\":\"carpet\"}],\"choropleth\":[{\"colorbar\":{\"outlinewidth\":0,\"ticks\":\"\"},\"type\":\"choropleth\"}],\"contourcarpet\":[{\"colorbar\":{\"outlinewidth\":0,\"ticks\":\"\"},\"type\":\"contourcarpet\"}],\"contour\":[{\"colorbar\":{\"outlinewidth\":0,\"ticks\":\"\"},\"colorscale\":[[0.0,\"#0d0887\"],[0.1111111111111111,\"#46039f\"],[0.2222222222222222,\"#7201a8\"],[0.3333333333333333,\"#9c179e\"],[0.4444444444444444,\"#bd3786\"],[0.5555555555555556,\"#d8576b\"],[0.6666666666666666,\"#ed7953\"],[0.7777777777777778,\"#fb9f3a\"],[0.8888888888888888,\"#fdca26\"],[1.0,\"#f0f921\"]],\"type\":\"contour\"}],\"heatmapgl\":[{\"colorbar\":{\"outlinewidth\":0,\"ticks\":\"\"},\"colorscale\":[[0.0,\"#0d0887\"],[0.1111111111111111,\"#46039f\"],[0.2222222222222222,\"#7201a8\"],[0.3333333333333333,\"#9c179e\"],[0.4444444444444444,\"#bd3786\"],[0.5555555555555556,\"#d8576b\"],[0.6666666666666666,\"#ed7953\"],[0.7777777777777778,\"#fb9f3a\"],[0.8888888888888888,\"#fdca26\"],[1.0,\"#f0f921\"]],\"type\":\"heatmapgl\"}],\"heatmap\":[{\"colorbar\":{\"outlinewidth\":0,\"ticks\":\"\"},\"colorscale\":[[0.0,\"#0d0887\"],[0.1111111111111111,\"#46039f\"],[0.2222222222222222,\"#7201a8\"],[0.3333333333333333,\"#9c179e\"],[0.4444444444444444,\"#bd3786\"],[0.5555555555555556,\"#d8576b\"],[0.6666666666666666,\"#ed7953\"],[0.7777777777777778,\"#fb9f3a\"],[0.8888888888888888,\"#fdca26\"],[1.0,\"#f0f921\"]],\"type\":\"heatmap\"}],\"histogram2dcontour\":[{\"colorbar\":{\"outlinewidth\":0,\"ticks\":\"\"},\"colorscale\":[[0.0,\"#0d0887\"],[0.1111111111111111,\"#46039f\"],[0.2222222222222222,\"#7201a8\"],[0.3333333333333333,\"#9c179e\"],[0.4444444444444444,\"#bd3786\"],[0.5555555555555556,\"#d8576b\"],[0.6666666666666666,\"#ed7953\"],[0.7777777777777778,\"#fb9f3a\"],[0.8888888888888888,\"#fdca26\"],[1.0,\"#f0f921\"]],\"type\":\"histogram2dcontour\"}],\"histogram2d\":[{\"colorbar\":{\"outlinewidth\":0,\"ticks\":\"\"},\"colorscale\":[[0.0,\"#0d0887\"],[0.1111111111111111,\"#46039f\"],[0.2222222222222222,\"#7201a8\"],[0.3333333333333333,\"#9c179e\"],[0.4444444444444444,\"#bd3786\"],[0.5555555555555556,\"#d8576b\"],[0.6666666666666666,\"#ed7953\"],[0.7777777777777778,\"#fb9f3a\"],[0.8888888888888888,\"#fdca26\"],[1.0,\"#f0f921\"]],\"type\":\"histogram2d\"}],\"histogram\":[{\"marker\":{\"pattern\":{\"fillmode\":\"overlay\",\"size\":10,\"solidity\":0.2}},\"type\":\"histogram\"}],\"mesh3d\":[{\"colorbar\":{\"outlinewidth\":0,\"ticks\":\"\"},\"type\":\"mesh3d\"}],\"parcoords\":[{\"line\":{\"colorbar\":{\"outlinewidth\":0,\"ticks\":\"\"}},\"type\":\"parcoords\"}],\"pie\":[{\"automargin\":true,\"type\":\"pie\"}],\"scatter3d\":[{\"line\":{\"colorbar\":{\"outlinewidth\":0,\"ticks\":\"\"}},\"marker\":{\"colorbar\":{\"outlinewidth\":0,\"ticks\":\"\"}},\"type\":\"scatter3d\"}],\"scattercarpet\":[{\"marker\":{\"colorbar\":{\"outlinewidth\":0,\"ticks\":\"\"}},\"type\":\"scattercarpet\"}],\"scattergeo\":[{\"marker\":{\"colorbar\":{\"outlinewidth\":0,\"ticks\":\"\"}},\"type\":\"scattergeo\"}],\"scattergl\":[{\"marker\":{\"colorbar\":{\"outlinewidth\":0,\"ticks\":\"\"}},\"type\":\"scattergl\"}],\"scattermapbox\":[{\"marker\":{\"colorbar\":{\"outlinewidth\":0,\"ticks\":\"\"}},\"type\":\"scattermapbox\"}],\"scatterpolargl\":[{\"marker\":{\"colorbar\":{\"outlinewidth\":0,\"ticks\":\"\"}},\"type\":\"scatterpolargl\"}],\"scatterpolar\":[{\"marker\":{\"colorbar\":{\"outlinewidth\":0,\"ticks\":\"\"}},\"type\":\"scatterpolar\"}],\"scatter\":[{\"marker\":{\"colorbar\":{\"outlinewidth\":0,\"ticks\":\"\"}},\"type\":\"scatter\"}],\"scatterternary\":[{\"marker\":{\"colorbar\":{\"outlinewidth\":0,\"ticks\":\"\"}},\"type\":\"scatterternary\"}],\"surface\":[{\"colorbar\":{\"outlinewidth\":0,\"ticks\":\"\"},\"colorscale\":[[0.0,\"#0d0887\"],[0.1111111111111111,\"#46039f\"],[0.2222222222222222,\"#7201a8\"],[0.3333333333333333,\"#9c179e\"],[0.4444444444444444,\"#bd3786\"],[0.5555555555555556,\"#d8576b\"],[0.6666666666666666,\"#ed7953\"],[0.7777777777777778,\"#fb9f3a\"],[0.8888888888888888,\"#fdca26\"],[1.0,\"#f0f921\"]],\"type\":\"surface\"}],\"table\":[{\"cells\":{\"fill\":{\"color\":\"#EBF0F8\"},\"line\":{\"color\":\"white\"}},\"header\":{\"fill\":{\"color\":\"#C8D4E3\"},\"line\":{\"color\":\"white\"}},\"type\":\"table\"}]},\"layout\":{\"annotationdefaults\":{\"arrowcolor\":\"#2a3f5f\",\"arrowhead\":0,\"arrowwidth\":1},\"autotypenumbers\":\"strict\",\"coloraxis\":{\"colorbar\":{\"outlinewidth\":0,\"ticks\":\"\"}},\"colorscale\":{\"diverging\":[[0,\"#8e0152\"],[0.1,\"#c51b7d\"],[0.2,\"#de77ae\"],[0.3,\"#f1b6da\"],[0.4,\"#fde0ef\"],[0.5,\"#f7f7f7\"],[0.6,\"#e6f5d0\"],[0.7,\"#b8e186\"],[0.8,\"#7fbc41\"],[0.9,\"#4d9221\"],[1,\"#276419\"]],\"sequential\":[[0.0,\"#0d0887\"],[0.1111111111111111,\"#46039f\"],[0.2222222222222222,\"#7201a8\"],[0.3333333333333333,\"#9c179e\"],[0.4444444444444444,\"#bd3786\"],[0.5555555555555556,\"#d8576b\"],[0.6666666666666666,\"#ed7953\"],[0.7777777777777778,\"#fb9f3a\"],[0.8888888888888888,\"#fdca26\"],[1.0,\"#f0f921\"]],\"sequentialminus\":[[0.0,\"#0d0887\"],[0.1111111111111111,\"#46039f\"],[0.2222222222222222,\"#7201a8\"],[0.3333333333333333,\"#9c179e\"],[0.4444444444444444,\"#bd3786\"],[0.5555555555555556,\"#d8576b\"],[0.6666666666666666,\"#ed7953\"],[0.7777777777777778,\"#fb9f3a\"],[0.8888888888888888,\"#fdca26\"],[1.0,\"#f0f921\"]]},\"colorway\":[\"#636efa\",\"#EF553B\",\"#00cc96\",\"#ab63fa\",\"#FFA15A\",\"#19d3f3\",\"#FF6692\",\"#B6E880\",\"#FF97FF\",\"#FECB52\"],\"font\":{\"color\":\"#2a3f5f\"},\"geo\":{\"bgcolor\":\"white\",\"lakecolor\":\"white\",\"landcolor\":\"#E5ECF6\",\"showlakes\":true,\"showland\":true,\"subunitcolor\":\"white\"},\"hoverlabel\":{\"align\":\"left\"},\"hovermode\":\"closest\",\"mapbox\":{\"style\":\"light\"},\"paper_bgcolor\":\"white\",\"plot_bgcolor\":\"#E5ECF6\",\"polar\":{\"angularaxis\":{\"gridcolor\":\"white\",\"linecolor\":\"white\",\"ticks\":\"\"},\"bgcolor\":\"#E5ECF6\",\"radialaxis\":{\"gridcolor\":\"white\",\"linecolor\":\"white\",\"ticks\":\"\"}},\"scene\":{\"xaxis\":{\"backgroundcolor\":\"#E5ECF6\",\"gridcolor\":\"white\",\"gridwidth\":2,\"linecolor\":\"white\",\"showbackground\":true,\"ticks\":\"\",\"zerolinecolor\":\"white\"},\"yaxis\":{\"backgroundcolor\":\"#E5ECF6\",\"gridcolor\":\"white\",\"gridwidth\":2,\"linecolor\":\"white\",\"showbackground\":true,\"ticks\":\"\",\"zerolinecolor\":\"white\"},\"zaxis\":{\"backgroundcolor\":\"#E5ECF6\",\"gridcolor\":\"white\",\"gridwidth\":2,\"linecolor\":\"white\",\"showbackground\":true,\"ticks\":\"\",\"zerolinecolor\":\"white\"}},\"shapedefaults\":{\"line\":{\"color\":\"#2a3f5f\"}},\"ternary\":{\"aaxis\":{\"gridcolor\":\"white\",\"linecolor\":\"white\",\"ticks\":\"\"},\"baxis\":{\"gridcolor\":\"white\",\"linecolor\":\"white\",\"ticks\":\"\"},\"bgcolor\":\"#E5ECF6\",\"caxis\":{\"gridcolor\":\"white\",\"linecolor\":\"white\",\"ticks\":\"\"}},\"title\":{\"x\":0.05},\"xaxis\":{\"automargin\":true,\"gridcolor\":\"white\",\"linecolor\":\"white\",\"ticks\":\"\",\"title\":{\"standoff\":15},\"zerolinecolor\":\"white\",\"zerolinewidth\":2},\"yaxis\":{\"automargin\":true,\"gridcolor\":\"white\",\"linecolor\":\"white\",\"ticks\":\"\",\"title\":{\"standoff\":15},\"zerolinecolor\":\"white\",\"zerolinewidth\":2}}},\"title\":{\"text\":\"Sub-Saharan African GDP per capita PPP 1960-202021 current international $\"},\"xaxis\":{\"nticks\":43,\"ticks\":\"\"},\"yaxis\":{\"nticks\":20}},                        {\"responsive\": true}                    ).then(function(){\n",
              "                            \n",
              "var gd = document.getElementById('c709d138-c5a8-455f-850a-2c575d48d79f');\n",
              "var x = new MutationObserver(function (mutations, observer) {{\n",
              "        var display = window.getComputedStyle(gd).display;\n",
              "        if (!display || display === 'none') {{\n",
              "            console.log([gd, 'removed!']);\n",
              "            Plotly.purge(gd);\n",
              "            observer.disconnect();\n",
              "        }}\n",
              "}});\n",
              "\n",
              "// Listen for the removal of the full notebook cells\n",
              "var notebookContainer = gd.closest('#notebook-container');\n",
              "if (notebookContainer) {{\n",
              "    x.observe(notebookContainer, {childList: true});\n",
              "}}\n",
              "\n",
              "// Listen for the clearing of the current output cell\n",
              "var outputEl = gd.closest('.output');\n",
              "if (outputEl) {{\n",
              "    x.observe(outputEl, {childList: true});\n",
              "}}\n",
              "\n",
              "                        })                };                            </script>        </div>\n",
              "</body>\n",
              "</html>"
            ]
          },
          "metadata": {}
        }
      ]
    },
    {
      "cell_type": "markdown",
      "source": [
        "It is visually indicative from the time plot above that Sub-Saharan GDP per capita follows a positive additive growth pattern. Therefore, we regard it as a non-stationary time series."
      ],
      "metadata": {
        "id": "VGsEGPJJF5H1"
      }
    },
    {
      "cell_type": "code",
      "source": [
        "#EXAMINING THE DYNAMIC CHANGE\n",
        "ts_1=clean\n",
        "ts_1['mean']=clean['GDP per capita (current US$)'].pct_change().mean()\n",
        "X=clean['YEAR']\n",
        "y_2=clean['GDP per capita (current US$)'].pct_change()\n",
        "y1=ts_1['mean']\n",
        "layout = go.Layout(title= 'Sub-Saharan African GDP per capita PPP growth dynamic 1960-2020 (current US$)',\n",
        "    xaxis = dict(ticks='', nticks=40),\n",
        "    yaxis = dict(nticks=20),legend=dict(x=0.7, y=1))\n",
        "trace0 = go.Scatter(x=X,y=y_2, mode = 'lines',name=\"SSA GDPpc $ growth 196712021\", marker = dict(size=12, color='red'))\n",
        "trace1 = go.Scatter(x=X,y=y1, mode = 'lines', name=\"GDP Mean \", marker = dict(size=12, color='darkcyan'))\n",
        "data = [trace0,trace1]\n",
        "fig =go.Figure(data=data, layout=layout)\n",
        "py.iplot(fig, filename='heatmap',show_link=False)"
      ],
      "metadata": {
        "colab": {
          "base_uri": "https://localhost:8080/",
          "height": 542
        },
        "id": "n9f0A8y5GPXr",
        "outputId": "dfc38719-ba88-4209-f1c5-150089ce20e8"
      },
      "execution_count": 30,
      "outputs": [
        {
          "output_type": "display_data",
          "data": {
            "text/html": [
              "<html>\n",
              "<head><meta charset=\"utf-8\" /></head>\n",
              "<body>\n",
              "    <div>            <script src=\"https://cdnjs.cloudflare.com/ajax/libs/mathjax/2.7.5/MathJax.js?config=TeX-AMS-MML_SVG\"></script><script type=\"text/javascript\">if (window.MathJax) {MathJax.Hub.Config({SVG: {font: \"STIX-Web\"}});}</script>                <script type=\"text/javascript\">window.PlotlyConfig = {MathJaxConfig: 'local'};</script>\n",
              "        <script src=\"https://cdn.plot.ly/plotly-2.8.3.min.js\"></script>                <div id=\"ebf9e2d8-4211-44ce-97b7-b8ddc175cdc3\" class=\"plotly-graph-div\" style=\"height:525px; width:100%;\"></div>            <script type=\"text/javascript\">                                    window.PLOTLYENV=window.PLOTLYENV || {};                                    if (document.getElementById(\"ebf9e2d8-4211-44ce-97b7-b8ddc175cdc3\")) {                    Plotly.newPlot(                        \"ebf9e2d8-4211-44ce-97b7-b8ddc175cdc3\",                        [{\"marker\":{\"color\":\"red\",\"size\":12},\"mode\":\"lines\",\"name\":\"SSA GDPpc $ growth 196712021\",\"x\":[1971.0,1972.0,1973.0,1974.0,1975.0,1976.0,1977.0,1978.0,1979.0,1980.0,1981.0,1982.0,1983.0,1984.0,1985.0,1986.0,1987.0,1988.0,1989.0,1990.0,1991.0,1992.0,1993.0,1994.0,1995.0,1996.0,1997.0,1998.0,1999.0,2000.0,2001.0,2002.0,2003.0,2004.0,2005.0,2006.0,2007.0,2008.0,2009.0,2010.0,2011.0,2012.0,2013.0,2014.0,2015.0,2016.0,2017.0,2018.0,2019.0,2020.0,2021.0],\"y\":[null,0.0995575221238938,0.24144869215291753,0.27066450567260936,0.07653061224489788,0.06042654028436023,0.06368715083798882,0.07247899159663862,0.16944172380019595,0.2303182579564489,0.40367597004765154,-0.11202715809893304,-0.16930638995084657,-0.15647600262984873,-0.08885424785658613,-0.017964071856287456,0.08972125435540068,0.015987210231814597,-0.020456333595594067,0.14538152610441757,0.003506311360448766,-0.10062893081761004,-0.09867909867909863,-0.06551724137931036,0.13837638376383765,0.030794165316045286,0.007075471698113178,-0.049960967993754934,-0.010682004930156141,0.029069767441860517,-0.053268765133171914,0.07416879795396425,0.21190476190476182,0.21021611001964646,0.1612554112554112,0.16029822926374648,0.13012048192771086,0.11904761904761907,-0.07526198793267702,0.14938186813186816,0.09740065730504921,0.018785733732643584,0.043826830571886743,0.011008704557091686,-0.1261078754114966,-0.09591422776006953,0.039423076923077005,0.0006167129201357646,0.013559322033898313,-0.06628154454241408,0.08531422989254311],\"type\":\"scatter\"},{\"marker\":{\"color\":\"darkcyan\",\"size\":12},\"mode\":\"lines\",\"name\":\"GDP Mean \",\"x\":[1971.0,1972.0,1973.0,1974.0,1975.0,1976.0,1977.0,1978.0,1979.0,1980.0,1981.0,1982.0,1983.0,1984.0,1985.0,1986.0,1987.0,1988.0,1989.0,1990.0,1991.0,1992.0,1993.0,1994.0,1995.0,1996.0,1997.0,1998.0,1999.0,2000.0,2001.0,2002.0,2003.0,2004.0,2005.0,2006.0,2007.0,2008.0,2009.0,2010.0,2011.0,2012.0,2013.0,2014.0,2015.0,2016.0,2017.0,2018.0,2019.0,2020.0,2021.0],\"y\":[0.0473416751172548,0.0473416751172548,0.0473416751172548,0.0473416751172548,0.0473416751172548,0.0473416751172548,0.0473416751172548,0.0473416751172548,0.0473416751172548,0.0473416751172548,0.0473416751172548,0.0473416751172548,0.0473416751172548,0.0473416751172548,0.0473416751172548,0.0473416751172548,0.0473416751172548,0.0473416751172548,0.0473416751172548,0.0473416751172548,0.0473416751172548,0.0473416751172548,0.0473416751172548,0.0473416751172548,0.0473416751172548,0.0473416751172548,0.0473416751172548,0.0473416751172548,0.0473416751172548,0.0473416751172548,0.0473416751172548,0.0473416751172548,0.0473416751172548,0.0473416751172548,0.0473416751172548,0.0473416751172548,0.0473416751172548,0.0473416751172548,0.0473416751172548,0.0473416751172548,0.0473416751172548,0.0473416751172548,0.0473416751172548,0.0473416751172548,0.0473416751172548,0.0473416751172548,0.0473416751172548,0.0473416751172548,0.0473416751172548,0.0473416751172548,0.0473416751172548],\"type\":\"scatter\"}],                        {\"legend\":{\"x\":0.7,\"y\":1},\"template\":{\"data\":{\"barpolar\":[{\"marker\":{\"line\":{\"color\":\"#E5ECF6\",\"width\":0.5},\"pattern\":{\"fillmode\":\"overlay\",\"size\":10,\"solidity\":0.2}},\"type\":\"barpolar\"}],\"bar\":[{\"error_x\":{\"color\":\"#2a3f5f\"},\"error_y\":{\"color\":\"#2a3f5f\"},\"marker\":{\"line\":{\"color\":\"#E5ECF6\",\"width\":0.5},\"pattern\":{\"fillmode\":\"overlay\",\"size\":10,\"solidity\":0.2}},\"type\":\"bar\"}],\"carpet\":[{\"aaxis\":{\"endlinecolor\":\"#2a3f5f\",\"gridcolor\":\"white\",\"linecolor\":\"white\",\"minorgridcolor\":\"white\",\"startlinecolor\":\"#2a3f5f\"},\"baxis\":{\"endlinecolor\":\"#2a3f5f\",\"gridcolor\":\"white\",\"linecolor\":\"white\",\"minorgridcolor\":\"white\",\"startlinecolor\":\"#2a3f5f\"},\"type\":\"carpet\"}],\"choropleth\":[{\"colorbar\":{\"outlinewidth\":0,\"ticks\":\"\"},\"type\":\"choropleth\"}],\"contourcarpet\":[{\"colorbar\":{\"outlinewidth\":0,\"ticks\":\"\"},\"type\":\"contourcarpet\"}],\"contour\":[{\"colorbar\":{\"outlinewidth\":0,\"ticks\":\"\"},\"colorscale\":[[0.0,\"#0d0887\"],[0.1111111111111111,\"#46039f\"],[0.2222222222222222,\"#7201a8\"],[0.3333333333333333,\"#9c179e\"],[0.4444444444444444,\"#bd3786\"],[0.5555555555555556,\"#d8576b\"],[0.6666666666666666,\"#ed7953\"],[0.7777777777777778,\"#fb9f3a\"],[0.8888888888888888,\"#fdca26\"],[1.0,\"#f0f921\"]],\"type\":\"contour\"}],\"heatmapgl\":[{\"colorbar\":{\"outlinewidth\":0,\"ticks\":\"\"},\"colorscale\":[[0.0,\"#0d0887\"],[0.1111111111111111,\"#46039f\"],[0.2222222222222222,\"#7201a8\"],[0.3333333333333333,\"#9c179e\"],[0.4444444444444444,\"#bd3786\"],[0.5555555555555556,\"#d8576b\"],[0.6666666666666666,\"#ed7953\"],[0.7777777777777778,\"#fb9f3a\"],[0.8888888888888888,\"#fdca26\"],[1.0,\"#f0f921\"]],\"type\":\"heatmapgl\"}],\"heatmap\":[{\"colorbar\":{\"outlinewidth\":0,\"ticks\":\"\"},\"colorscale\":[[0.0,\"#0d0887\"],[0.1111111111111111,\"#46039f\"],[0.2222222222222222,\"#7201a8\"],[0.3333333333333333,\"#9c179e\"],[0.4444444444444444,\"#bd3786\"],[0.5555555555555556,\"#d8576b\"],[0.6666666666666666,\"#ed7953\"],[0.7777777777777778,\"#fb9f3a\"],[0.8888888888888888,\"#fdca26\"],[1.0,\"#f0f921\"]],\"type\":\"heatmap\"}],\"histogram2dcontour\":[{\"colorbar\":{\"outlinewidth\":0,\"ticks\":\"\"},\"colorscale\":[[0.0,\"#0d0887\"],[0.1111111111111111,\"#46039f\"],[0.2222222222222222,\"#7201a8\"],[0.3333333333333333,\"#9c179e\"],[0.4444444444444444,\"#bd3786\"],[0.5555555555555556,\"#d8576b\"],[0.6666666666666666,\"#ed7953\"],[0.7777777777777778,\"#fb9f3a\"],[0.8888888888888888,\"#fdca26\"],[1.0,\"#f0f921\"]],\"type\":\"histogram2dcontour\"}],\"histogram2d\":[{\"colorbar\":{\"outlinewidth\":0,\"ticks\":\"\"},\"colorscale\":[[0.0,\"#0d0887\"],[0.1111111111111111,\"#46039f\"],[0.2222222222222222,\"#7201a8\"],[0.3333333333333333,\"#9c179e\"],[0.4444444444444444,\"#bd3786\"],[0.5555555555555556,\"#d8576b\"],[0.6666666666666666,\"#ed7953\"],[0.7777777777777778,\"#fb9f3a\"],[0.8888888888888888,\"#fdca26\"],[1.0,\"#f0f921\"]],\"type\":\"histogram2d\"}],\"histogram\":[{\"marker\":{\"pattern\":{\"fillmode\":\"overlay\",\"size\":10,\"solidity\":0.2}},\"type\":\"histogram\"}],\"mesh3d\":[{\"colorbar\":{\"outlinewidth\":0,\"ticks\":\"\"},\"type\":\"mesh3d\"}],\"parcoords\":[{\"line\":{\"colorbar\":{\"outlinewidth\":0,\"ticks\":\"\"}},\"type\":\"parcoords\"}],\"pie\":[{\"automargin\":true,\"type\":\"pie\"}],\"scatter3d\":[{\"line\":{\"colorbar\":{\"outlinewidth\":0,\"ticks\":\"\"}},\"marker\":{\"colorbar\":{\"outlinewidth\":0,\"ticks\":\"\"}},\"type\":\"scatter3d\"}],\"scattercarpet\":[{\"marker\":{\"colorbar\":{\"outlinewidth\":0,\"ticks\":\"\"}},\"type\":\"scattercarpet\"}],\"scattergeo\":[{\"marker\":{\"colorbar\":{\"outlinewidth\":0,\"ticks\":\"\"}},\"type\":\"scattergeo\"}],\"scattergl\":[{\"marker\":{\"colorbar\":{\"outlinewidth\":0,\"ticks\":\"\"}},\"type\":\"scattergl\"}],\"scattermapbox\":[{\"marker\":{\"colorbar\":{\"outlinewidth\":0,\"ticks\":\"\"}},\"type\":\"scattermapbox\"}],\"scatterpolargl\":[{\"marker\":{\"colorbar\":{\"outlinewidth\":0,\"ticks\":\"\"}},\"type\":\"scatterpolargl\"}],\"scatterpolar\":[{\"marker\":{\"colorbar\":{\"outlinewidth\":0,\"ticks\":\"\"}},\"type\":\"scatterpolar\"}],\"scatter\":[{\"marker\":{\"colorbar\":{\"outlinewidth\":0,\"ticks\":\"\"}},\"type\":\"scatter\"}],\"scatterternary\":[{\"marker\":{\"colorbar\":{\"outlinewidth\":0,\"ticks\":\"\"}},\"type\":\"scatterternary\"}],\"surface\":[{\"colorbar\":{\"outlinewidth\":0,\"ticks\":\"\"},\"colorscale\":[[0.0,\"#0d0887\"],[0.1111111111111111,\"#46039f\"],[0.2222222222222222,\"#7201a8\"],[0.3333333333333333,\"#9c179e\"],[0.4444444444444444,\"#bd3786\"],[0.5555555555555556,\"#d8576b\"],[0.6666666666666666,\"#ed7953\"],[0.7777777777777778,\"#fb9f3a\"],[0.8888888888888888,\"#fdca26\"],[1.0,\"#f0f921\"]],\"type\":\"surface\"}],\"table\":[{\"cells\":{\"fill\":{\"color\":\"#EBF0F8\"},\"line\":{\"color\":\"white\"}},\"header\":{\"fill\":{\"color\":\"#C8D4E3\"},\"line\":{\"color\":\"white\"}},\"type\":\"table\"}]},\"layout\":{\"annotationdefaults\":{\"arrowcolor\":\"#2a3f5f\",\"arrowhead\":0,\"arrowwidth\":1},\"autotypenumbers\":\"strict\",\"coloraxis\":{\"colorbar\":{\"outlinewidth\":0,\"ticks\":\"\"}},\"colorscale\":{\"diverging\":[[0,\"#8e0152\"],[0.1,\"#c51b7d\"],[0.2,\"#de77ae\"],[0.3,\"#f1b6da\"],[0.4,\"#fde0ef\"],[0.5,\"#f7f7f7\"],[0.6,\"#e6f5d0\"],[0.7,\"#b8e186\"],[0.8,\"#7fbc41\"],[0.9,\"#4d9221\"],[1,\"#276419\"]],\"sequential\":[[0.0,\"#0d0887\"],[0.1111111111111111,\"#46039f\"],[0.2222222222222222,\"#7201a8\"],[0.3333333333333333,\"#9c179e\"],[0.4444444444444444,\"#bd3786\"],[0.5555555555555556,\"#d8576b\"],[0.6666666666666666,\"#ed7953\"],[0.7777777777777778,\"#fb9f3a\"],[0.8888888888888888,\"#fdca26\"],[1.0,\"#f0f921\"]],\"sequentialminus\":[[0.0,\"#0d0887\"],[0.1111111111111111,\"#46039f\"],[0.2222222222222222,\"#7201a8\"],[0.3333333333333333,\"#9c179e\"],[0.4444444444444444,\"#bd3786\"],[0.5555555555555556,\"#d8576b\"],[0.6666666666666666,\"#ed7953\"],[0.7777777777777778,\"#fb9f3a\"],[0.8888888888888888,\"#fdca26\"],[1.0,\"#f0f921\"]]},\"colorway\":[\"#636efa\",\"#EF553B\",\"#00cc96\",\"#ab63fa\",\"#FFA15A\",\"#19d3f3\",\"#FF6692\",\"#B6E880\",\"#FF97FF\",\"#FECB52\"],\"font\":{\"color\":\"#2a3f5f\"},\"geo\":{\"bgcolor\":\"white\",\"lakecolor\":\"white\",\"landcolor\":\"#E5ECF6\",\"showlakes\":true,\"showland\":true,\"subunitcolor\":\"white\"},\"hoverlabel\":{\"align\":\"left\"},\"hovermode\":\"closest\",\"mapbox\":{\"style\":\"light\"},\"paper_bgcolor\":\"white\",\"plot_bgcolor\":\"#E5ECF6\",\"polar\":{\"angularaxis\":{\"gridcolor\":\"white\",\"linecolor\":\"white\",\"ticks\":\"\"},\"bgcolor\":\"#E5ECF6\",\"radialaxis\":{\"gridcolor\":\"white\",\"linecolor\":\"white\",\"ticks\":\"\"}},\"scene\":{\"xaxis\":{\"backgroundcolor\":\"#E5ECF6\",\"gridcolor\":\"white\",\"gridwidth\":2,\"linecolor\":\"white\",\"showbackground\":true,\"ticks\":\"\",\"zerolinecolor\":\"white\"},\"yaxis\":{\"backgroundcolor\":\"#E5ECF6\",\"gridcolor\":\"white\",\"gridwidth\":2,\"linecolor\":\"white\",\"showbackground\":true,\"ticks\":\"\",\"zerolinecolor\":\"white\"},\"zaxis\":{\"backgroundcolor\":\"#E5ECF6\",\"gridcolor\":\"white\",\"gridwidth\":2,\"linecolor\":\"white\",\"showbackground\":true,\"ticks\":\"\",\"zerolinecolor\":\"white\"}},\"shapedefaults\":{\"line\":{\"color\":\"#2a3f5f\"}},\"ternary\":{\"aaxis\":{\"gridcolor\":\"white\",\"linecolor\":\"white\",\"ticks\":\"\"},\"baxis\":{\"gridcolor\":\"white\",\"linecolor\":\"white\",\"ticks\":\"\"},\"bgcolor\":\"#E5ECF6\",\"caxis\":{\"gridcolor\":\"white\",\"linecolor\":\"white\",\"ticks\":\"\"}},\"title\":{\"x\":0.05},\"xaxis\":{\"automargin\":true,\"gridcolor\":\"white\",\"linecolor\":\"white\",\"ticks\":\"\",\"title\":{\"standoff\":15},\"zerolinecolor\":\"white\",\"zerolinewidth\":2},\"yaxis\":{\"automargin\":true,\"gridcolor\":\"white\",\"linecolor\":\"white\",\"ticks\":\"\",\"title\":{\"standoff\":15},\"zerolinecolor\":\"white\",\"zerolinewidth\":2}}},\"title\":{\"text\":\"Sub-Saharan African GDP per capita PPP growth dynamic 1960-2020 (current US$)\"},\"xaxis\":{\"nticks\":40,\"ticks\":\"\"},\"yaxis\":{\"nticks\":20}},                        {\"responsive\": true}                    ).then(function(){\n",
              "                            \n",
              "var gd = document.getElementById('ebf9e2d8-4211-44ce-97b7-b8ddc175cdc3');\n",
              "var x = new MutationObserver(function (mutations, observer) {{\n",
              "        var display = window.getComputedStyle(gd).display;\n",
              "        if (!display || display === 'none') {{\n",
              "            console.log([gd, 'removed!']);\n",
              "            Plotly.purge(gd);\n",
              "            observer.disconnect();\n",
              "        }}\n",
              "}});\n",
              "\n",
              "// Listen for the removal of the full notebook cells\n",
              "var notebookContainer = gd.closest('#notebook-container');\n",
              "if (notebookContainer) {{\n",
              "    x.observe(notebookContainer, {childList: true});\n",
              "}}\n",
              "\n",
              "// Listen for the clearing of the current output cell\n",
              "var outputEl = gd.closest('.output');\n",
              "if (outputEl) {{\n",
              "    x.observe(outputEl, {childList: true});\n",
              "}}\n",
              "\n",
              "                        })                };                            </script>        </div>\n",
              "</body>\n",
              "</html>"
            ]
          },
          "metadata": {}
        }
      ]
    },
    {
      "cell_type": "markdown",
      "source": [
        "See from the dynamic growth of the time series for the percentae change of GDP per capita looks stationary over time. We can however identify some cyclical patterns. Experiencing a fluctuation in positive, then a negative growth almost every consecutive year from 1961-1975. Its biggest growth in 1980 (4.04%). The growth is at its lowest in 1983. Post-depression, growth had a short positive rise (2010-2011) before dropping again negatively. As of last year, 2021, there is a bullish trend (8% growth) above the 4.7% average of the series."
      ],
      "metadata": {
        "id": "IWMNX2AeZHxW"
      }
    },
    {
      "cell_type": "code",
      "source": [
        "f, ax = plt.subplots(figsize=(16, 5)); plt.title('Distribution')\n",
        "sns.distplot(clean['GDP per capita (current US$)'].pct_change(),color='darkcyan', bins=20,rug=True,hist_kws={\"density\":True})\n",
        "plt.rc('xtick')    # fontsize of the tick X labels \n",
        "plt.rc('ytick')    # fontsize of the tick Y labels\n",
        "plt.title('Time series growth dynamic - Histogram and probability density function (PDF)', size=18)\n",
        "plt.xlabel('GDP per capita annual growth', size=14)\n",
        "plt.show()"
      ],
      "metadata": {
        "colab": {
          "base_uri": "https://localhost:8080/",
          "height": 517
        },
        "id": "5Z5Z-0cOZGnR",
        "outputId": "075b64bc-46eb-4d28-94fc-a051b6d96509"
      },
      "execution_count": 10,
      "outputs": [
        {
          "output_type": "stream",
          "name": "stderr",
          "text": [
            "/usr/local/lib/python3.8/dist-packages/seaborn/distributions.py:2619: FutureWarning:\n",
            "\n",
            "`distplot` is a deprecated function and will be removed in a future version. Please adapt your code to use either `displot` (a figure-level function with similar flexibility) or `histplot` (an axes-level function for histograms).\n",
            "\n",
            "/usr/local/lib/python3.8/dist-packages/seaborn/distributions.py:2103: FutureWarning:\n",
            "\n",
            "The `axis` variable is no longer used and will be removed. Instead, assign variables directly to `x` or `y`.\n",
            "\n"
          ]
        },
        {
          "output_type": "display_data",
          "data": {
            "text/plain": [
              "<Figure size 1152x360 with 1 Axes>"
            ],
            "image/png": "[encoded data removed]"
          },
          "metadata": {
            "needs_background": "light"
          }
        }
      ]
    },
    {
      "cell_type": "markdown",
      "source": [
        "We can see a very asymmetric distribution with a long right side tail."
      ],
      "metadata": {
        "id": "OIIqNKFAtDAk"
      }
    },
    {
      "cell_type": "code",
      "source": [
        "import statsmodels.api as sm\n",
        "fig, ax = plt.subplots(figsize=(15,5))\n",
        "ax.set_facecolor('silver')\n",
        "sm.graphics.tsa.plot_acf(y,ax=ax,lags=50)\n",
        "plt.show()"
      ],
      "metadata": {
        "colab": {
          "base_uri": "https://localhost:8080/",
          "height": 336
        },
        "id": "C2ECCEgiv00f",
        "outputId": "6f663107-6a1f-44f1-ca13-246ce35c3227"
      },
      "execution_count": 11,
      "outputs": [
        {
          "output_type": "display_data",
          "data": {
            "text/plain": [
              "<Figure size 1080x360 with 1 Axes>"
            ],
            "image/png": "[encoded data removed]"
          },
          "metadata": {
            "needs_background": "light"
          }
        }
      ]
    },
    {
      "cell_type": "markdown",
      "source": [
        "This correlogram to lag 50 confirms that the data is clearly non-stationary and follows an accumulative autoregressive growth pattern up to the 14th lag. It then starts accumulating negative autocorrelation from the 15th lag onward. For a stationary time series, the ACF will drop to zero relatively quickly. Either way, the ACF of non-stationary data decreases slowly. The blue margin shows the 95% confidence interval. It is the expected result for a growing additive time series, with a trend."
      ],
      "metadata": {
        "id": "DKmg7DNmwYFS"
      }
    },
    {
      "cell_type": "markdown",
      "source": [
        "We test for stationarity using the unit root test, the Dickey-Fuller test."
      ],
      "metadata": {
        "id": "Hfr1lHf0zVoq"
      }
    },
    {
      "cell_type": "code",
      "source": [
        "from statsmodels.tsa.stattools import adfuller\n",
        "result = adfuller(y)\n",
        "result"
      ],
      "metadata": {
        "colab": {
          "base_uri": "https://localhost:8080/"
        },
        "id": "H4FJ7scbxcbQ",
        "outputId": "9255f11e-1030-45d1-eece-c508dffae4ba"
      },
      "execution_count": 12,
      "outputs": [
        {
          "output_type": "execute_result",
          "data": {
            "text/plain": [
              "(-0.9548692205726815,\n",
              " 0.7693669653964403,\n",
              " 1,\n",
              " 49,\n",
              " {'1%': -3.5714715250448363,\n",
              "  '5%': -2.922629480573571,\n",
              "  '10%': -2.5993358475635153},\n",
              " 525.9241096739622)"
            ]
          },
          "metadata": {},
          "execution_count": 12
        }
      ]
    },
    {
      "cell_type": "code",
      "source": [
        "print('ADF Statistic: %f' % result[0])\n",
        "print('p-value: %f' % result[1])\n",
        "print('Critical Values:')\n",
        "for key, value in result[4].items():\n",
        " print('\\t%s: %.3f' % (key, value))"
      ],
      "metadata": {
        "colab": {
          "base_uri": "https://localhost:8080/"
        },
        "id": "uJqzaF8Oxzal",
        "outputId": "f85a21d6-50ab-4763-dda3-6084826f77a6"
      },
      "execution_count": 13,
      "outputs": [
        {
          "output_type": "stream",
          "name": "stdout",
          "text": [
            "ADF Statistic: -0.954869\n",
            "p-value: 0.769367\n",
            "Critical Values:\n",
            "\t1%: -3.571\n",
            "\t5%: -2.923\n",
            "\t10%: -2.599\n"
          ]
        }
      ]
    },
    {
      "cell_type": "markdown",
      "source": [
        "The null hypothesis of the test is that the time series can be represented by a unit root, so it is not stationary (has some time-dependent structure). The alternate hypothesis (rejecting the null hypothesis) is that the time series is stationary. With the ADfuller test, when our p-value > 0.05, we fail to reject the null hypotheses. The more negative this statistic, the more likely we are to reject the null hypothesis. From our test results, the test statistic is larger than the critical values at 1,5,10% so we fail to reject the null hypotheses. Also, becaue our p-value (0.856) > 0.05, we fail to reject the null hypotheses (fail to refuse non-stationarity in the data)"
      ],
      "metadata": {
        "id": "WSZwOZ2pz5Kl"
      }
    },
    {
      "cell_type": "code",
      "source": [
        "clean['rolling_mean'] = clean['GDP per capita (current US$)'].rolling(2).mean()\n",
        "clean['rolling_std'] = clean['GDP per capita (current US$)'].rolling(2).std()\n",
        "plt.plot(clean['rolling_mean'], label='Rolling Mean')\n",
        "plt.plot(clean['rolling_std'], label='Rolling Std')\n",
        "plt.plot(clean['GDP per capita (current US$)'], label='Raw Data')\n",
        "plt.legend()\n",
        "plt.show()"
      ],
      "metadata": {
        "colab": {
          "base_uri": "https://localhost:8080/",
          "height": 265
        },
        "id": "boFtQiTX-XES",
        "outputId": "cbfb1201-c66e-44c1-9a6f-9e54959cf6cb"
      },
      "execution_count": 14,
      "outputs": [
        {
          "output_type": "display_data",
          "data": {
            "text/plain": [
              "<Figure size 432x288 with 1 Axes>"
            ],
            "image/png": "[encoded data removed]"
          },
          "metadata": {
            "needs_background": "light"
          }
        }
      ]
    },
    {
      "cell_type": "markdown",
      "source": [
        "We see that the time series has an increasing trend with the mean showing its non-stationarity. "
      ],
      "metadata": {
        "id": "iVUJhkKCJvn7"
      }
    },
    {
      "cell_type": "code",
      "source": [
        "import statsmodels.api as sm\n",
        "fig, ax = plt.subplots(figsize=(15,5))\n",
        "ax.set_facecolor('silver')\n",
        "sm.graphics.tsa.plot_pacf(y,ax=ax)\n",
        "plt.show()"
      ],
      "metadata": {
        "colab": {
          "base_uri": "https://localhost:8080/",
          "height": 336
        },
        "id": "Lx7SAVprmdS4",
        "outputId": "dcc1e890-6a3e-4236-fa10-779fd1415baf"
      },
      "execution_count": 15,
      "outputs": [
        {
          "output_type": "display_data",
          "data": {
            "text/plain": [
              "<Figure size 1080x360 with 1 Axes>"
            ],
            "image/png": "[encoded data removed]"
          },
          "metadata": {
            "needs_background": "light"
          }
        }
      ]
    },
    {
      "cell_type": "markdown",
      "source": [
        "# MAKE OUR SERIES STATIONARY"
      ],
      "metadata": {
        "id": "yAt0sgYm5IsY"
      }
    },
    {
      "cell_type": "markdown",
      "source": [
        "Making our time series stationary is important because if our series is consistently increasing/decreasing over time, it means that either the mean is not constant or the variance-autocovariances are time-dependent, which makes more difficult to develop mathematical theory and models for time series. In summary, we can only study the series patterns for the given period and we cannot build generalized predictive ARIMA models with it."
      ],
      "metadata": {
        "id": "140dVfeN5Oj7"
      }
    },
    {
      "cell_type": "code",
      "source": [
        "# first order difference of the time series\n",
        "y_diff = y.diff().dropna()\n",
        "#y_diff = pd.Series(y_diff)\n",
        "\n",
        "layout = go.Layout(title= 'Sub-Saharan African GDP per capita First order differencing',\n",
        "xaxis = dict(ticks='', nticks=43),\n",
        "yaxis = dict(nticks=20),legend=dict(x=0.7, y=1))\n",
        "\n",
        "trace0 = go.Scatter(x=y_diff.index, y=y_diff.values, mode = 'lines+markers',name=\"SSA GDPpc PPP $ growth 1971-2021\", marker = dict(size=12, color='black'))\n",
        "data = [trace0]\n",
        "fig =go.Figure(data=data, layout=layout)\n",
        "py.iplot(fig, filename='heatmap',show_link=False)"
      ],
      "metadata": {
        "colab": {
          "base_uri": "https://localhost:8080/",
          "height": 542
        },
        "id": "HZbxYlUp9wue",
        "outputId": "94bd2c93-c593-4212-affa-375822bd7226"
      },
      "execution_count": 29,
      "outputs": [
        {
          "output_type": "display_data",
          "data": {
            "text/html": [
              "<html>\n",
              "<head><meta charset=\"utf-8\" /></head>\n",
              "<body>\n",
              "    <div>            <script src=\"https://cdnjs.cloudflare.com/ajax/libs/mathjax/2.7.5/MathJax.js?config=TeX-AMS-MML_SVG\"></script><script type=\"text/javascript\">if (window.MathJax) {MathJax.Hub.Config({SVG: {font: \"STIX-Web\"}});}</script>                <script type=\"text/javascript\">window.PlotlyConfig = {MathJaxConfig: 'local'};</script>\n",
              "        <script src=\"https://cdn.plot.ly/plotly-2.8.3.min.js\"></script>                <div id=\"dcf0c90b-34af-4025-b614-3489678f5aee\" class=\"plotly-graph-div\" style=\"height:525px; width:100%;\"></div>            <script type=\"text/javascript\">                                    window.PLOTLYENV=window.PLOTLYENV || {};                                    if (document.getElementById(\"dcf0c90b-34af-4025-b614-3489678f5aee\")) {                    Plotly.newPlot(                        \"dcf0c90b-34af-4025-b614-3489678f5aee\",                        [{\"marker\":{\"color\":\"black\",\"size\":12},\"mode\":\"lines+markers\",\"name\":\"SSA GDPpc PPP $ growth 1971-2021\",\"x\":[1,2,3,4,5,6,7,8,9,10,11,12,13,14,15,16,17,18,19,20,21,22,23,24,25,26,27,28,29,30,31,32,33,34,35,36,37,38,39,40,41,42,43,44,45,46,47,48,49,50],\"y\":[45.0,120.0,167.0,60.0,51.0,57.0,69.0,173.0,275.0,593.0,-231.0,-310.0,-238.0,-114.0,-21.0,103.0,20.0,-26.0,181.0,5.0,-144.0,-127.0,-76.0,150.0,38.0,9.0,-64.0,-13.0,35.0,-66.0,87.0,267.0,321.0,298.0,344.0,324.0,335.0,-237.0,435.0,326.0,69.0,164.0,43.0,-498.0,-331.0,123.0,2.0,44.0,-218.0,262.0],\"type\":\"scatter\"}],                        {\"legend\":{\"x\":0.7,\"y\":1},\"template\":{\"data\":{\"barpolar\":[{\"marker\":{\"line\":{\"color\":\"#E5ECF6\",\"width\":0.5},\"pattern\":{\"fillmode\":\"overlay\",\"size\":10,\"solidity\":0.2}},\"type\":\"barpolar\"}],\"bar\":[{\"error_x\":{\"color\":\"#2a3f5f\"},\"error_y\":{\"color\":\"#2a3f5f\"},\"marker\":{\"line\":{\"color\":\"#E5ECF6\",\"width\":0.5},\"pattern\":{\"fillmode\":\"overlay\",\"size\":10,\"solidity\":0.2}},\"type\":\"bar\"}],\"carpet\":[{\"aaxis\":{\"endlinecolor\":\"#2a3f5f\",\"gridcolor\":\"white\",\"linecolor\":\"white\",\"minorgridcolor\":\"white\",\"startlinecolor\":\"#2a3f5f\"},\"baxis\":{\"endlinecolor\":\"#2a3f5f\",\"gridcolor\":\"white\",\"linecolor\":\"white\",\"minorgridcolor\":\"white\",\"startlinecolor\":\"#2a3f5f\"},\"type\":\"carpet\"}],\"choropleth\":[{\"colorbar\":{\"outlinewidth\":0,\"ticks\":\"\"},\"type\":\"choropleth\"}],\"contourcarpet\":[{\"colorbar\":{\"outlinewidth\":0,\"ticks\":\"\"},\"type\":\"contourcarpet\"}],\"contour\":[{\"colorbar\":{\"outlinewidth\":0,\"ticks\":\"\"},\"colorscale\":[[0.0,\"#0d0887\"],[0.1111111111111111,\"#46039f\"],[0.2222222222222222,\"#7201a8\"],[0.3333333333333333,\"#9c179e\"],[0.4444444444444444,\"#bd3786\"],[0.5555555555555556,\"#d8576b\"],[0.6666666666666666,\"#ed7953\"],[0.7777777777777778,\"#fb9f3a\"],[0.8888888888888888,\"#fdca26\"],[1.0,\"#f0f921\"]],\"type\":\"contour\"}],\"heatmapgl\":[{\"colorbar\":{\"outlinewidth\":0,\"ticks\":\"\"},\"colorscale\":[[0.0,\"#0d0887\"],[0.1111111111111111,\"#46039f\"],[0.2222222222222222,\"#7201a8\"],[0.3333333333333333,\"#9c179e\"],[0.4444444444444444,\"#bd3786\"],[0.5555555555555556,\"#d8576b\"],[0.6666666666666666,\"#ed7953\"],[0.7777777777777778,\"#fb9f3a\"],[0.8888888888888888,\"#fdca26\"],[1.0,\"#f0f921\"]],\"type\":\"heatmapgl\"}],\"heatmap\":[{\"colorbar\":{\"outlinewidth\":0,\"ticks\":\"\"},\"colorscale\":[[0.0,\"#0d0887\"],[0.1111111111111111,\"#46039f\"],[0.2222222222222222,\"#7201a8\"],[0.3333333333333333,\"#9c179e\"],[0.4444444444444444,\"#bd3786\"],[0.5555555555555556,\"#d8576b\"],[0.6666666666666666,\"#ed7953\"],[0.7777777777777778,\"#fb9f3a\"],[0.8888888888888888,\"#fdca26\"],[1.0,\"#f0f921\"]],\"type\":\"heatmap\"}],\"histogram2dcontour\":[{\"colorbar\":{\"outlinewidth\":0,\"ticks\":\"\"},\"colorscale\":[[0.0,\"#0d0887\"],[0.1111111111111111,\"#46039f\"],[0.2222222222222222,\"#7201a8\"],[0.3333333333333333,\"#9c179e\"],[0.4444444444444444,\"#bd3786\"],[0.5555555555555556,\"#d8576b\"],[0.6666666666666666,\"#ed7953\"],[0.7777777777777778,\"#fb9f3a\"],[0.8888888888888888,\"#fdca26\"],[1.0,\"#f0f921\"]],\"type\":\"histogram2dcontour\"}],\"histogram2d\":[{\"colorbar\":{\"outlinewidth\":0,\"ticks\":\"\"},\"colorscale\":[[0.0,\"#0d0887\"],[0.1111111111111111,\"#46039f\"],[0.2222222222222222,\"#7201a8\"],[0.3333333333333333,\"#9c179e\"],[0.4444444444444444,\"#bd3786\"],[0.5555555555555556,\"#d8576b\"],[0.6666666666666666,\"#ed7953\"],[0.7777777777777778,\"#fb9f3a\"],[0.8888888888888888,\"#fdca26\"],[1.0,\"#f0f921\"]],\"type\":\"histogram2d\"}],\"histogram\":[{\"marker\":{\"pattern\":{\"fillmode\":\"overlay\",\"size\":10,\"solidity\":0.2}},\"type\":\"histogram\"}],\"mesh3d\":[{\"colorbar\":{\"outlinewidth\":0,\"ticks\":\"\"},\"type\":\"mesh3d\"}],\"parcoords\":[{\"line\":{\"colorbar\":{\"outlinewidth\":0,\"ticks\":\"\"}},\"type\":\"parcoords\"}],\"pie\":[{\"automargin\":true,\"type\":\"pie\"}],\"scatter3d\":[{\"line\":{\"colorbar\":{\"outlinewidth\":0,\"ticks\":\"\"}},\"marker\":{\"colorbar\":{\"outlinewidth\":0,\"ticks\":\"\"}},\"type\":\"scatter3d\"}],\"scattercarpet\":[{\"marker\":{\"colorbar\":{\"outlinewidth\":0,\"ticks\":\"\"}},\"type\":\"scattercarpet\"}],\"scattergeo\":[{\"marker\":{\"colorbar\":{\"outlinewidth\":0,\"ticks\":\"\"}},\"type\":\"scattergeo\"}],\"scattergl\":[{\"marker\":{\"colorbar\":{\"outlinewidth\":0,\"ticks\":\"\"}},\"type\":\"scattergl\"}],\"scattermapbox\":[{\"marker\":{\"colorbar\":{\"outlinewidth\":0,\"ticks\":\"\"}},\"type\":\"scattermapbox\"}],\"scatterpolargl\":[{\"marker\":{\"colorbar\":{\"outlinewidth\":0,\"ticks\":\"\"}},\"type\":\"scatterpolargl\"}],\"scatterpolar\":[{\"marker\":{\"colorbar\":{\"outlinewidth\":0,\"ticks\":\"\"}},\"type\":\"scatterpolar\"}],\"scatter\":[{\"marker\":{\"colorbar\":{\"outlinewidth\":0,\"ticks\":\"\"}},\"type\":\"scatter\"}],\"scatterternary\":[{\"marker\":{\"colorbar\":{\"outlinewidth\":0,\"ticks\":\"\"}},\"type\":\"scatterternary\"}],\"surface\":[{\"colorbar\":{\"outlinewidth\":0,\"ticks\":\"\"},\"colorscale\":[[0.0,\"#0d0887\"],[0.1111111111111111,\"#46039f\"],[0.2222222222222222,\"#7201a8\"],[0.3333333333333333,\"#9c179e\"],[0.4444444444444444,\"#bd3786\"],[0.5555555555555556,\"#d8576b\"],[0.6666666666666666,\"#ed7953\"],[0.7777777777777778,\"#fb9f3a\"],[0.8888888888888888,\"#fdca26\"],[1.0,\"#f0f921\"]],\"type\":\"surface\"}],\"table\":[{\"cells\":{\"fill\":{\"color\":\"#EBF0F8\"},\"line\":{\"color\":\"white\"}},\"header\":{\"fill\":{\"color\":\"#C8D4E3\"},\"line\":{\"color\":\"white\"}},\"type\":\"table\"}]},\"layout\":{\"annotationdefaults\":{\"arrowcolor\":\"#2a3f5f\",\"arrowhead\":0,\"arrowwidth\":1},\"autotypenumbers\":\"strict\",\"coloraxis\":{\"colorbar\":{\"outlinewidth\":0,\"ticks\":\"\"}},\"colorscale\":{\"diverging\":[[0,\"#8e0152\"],[0.1,\"#c51b7d\"],[0.2,\"#de77ae\"],[0.3,\"#f1b6da\"],[0.4,\"#fde0ef\"],[0.5,\"#f7f7f7\"],[0.6,\"#e6f5d0\"],[0.7,\"#b8e186\"],[0.8,\"#7fbc41\"],[0.9,\"#4d9221\"],[1,\"#276419\"]],\"sequential\":[[0.0,\"#0d0887\"],[0.1111111111111111,\"#46039f\"],[0.2222222222222222,\"#7201a8\"],[0.3333333333333333,\"#9c179e\"],[0.4444444444444444,\"#bd3786\"],[0.5555555555555556,\"#d8576b\"],[0.6666666666666666,\"#ed7953\"],[0.7777777777777778,\"#fb9f3a\"],[0.8888888888888888,\"#fdca26\"],[1.0,\"#f0f921\"]],\"sequentialminus\":[[0.0,\"#0d0887\"],[0.1111111111111111,\"#46039f\"],[0.2222222222222222,\"#7201a8\"],[0.3333333333333333,\"#9c179e\"],[0.4444444444444444,\"#bd3786\"],[0.5555555555555556,\"#d8576b\"],[0.6666666666666666,\"#ed7953\"],[0.7777777777777778,\"#fb9f3a\"],[0.8888888888888888,\"#fdca26\"],[1.0,\"#f0f921\"]]},\"colorway\":[\"#636efa\",\"#EF553B\",\"#00cc96\",\"#ab63fa\",\"#FFA15A\",\"#19d3f3\",\"#FF6692\",\"#B6E880\",\"#FF97FF\",\"#FECB52\"],\"font\":{\"color\":\"#2a3f5f\"},\"geo\":{\"bgcolor\":\"white\",\"lakecolor\":\"white\",\"landcolor\":\"#E5ECF6\",\"showlakes\":true,\"showland\":true,\"subunitcolor\":\"white\"},\"hoverlabel\":{\"align\":\"left\"},\"hovermode\":\"closest\",\"mapbox\":{\"style\":\"light\"},\"paper_bgcolor\":\"white\",\"plot_bgcolor\":\"#E5ECF6\",\"polar\":{\"angularaxis\":{\"gridcolor\":\"white\",\"linecolor\":\"white\",\"ticks\":\"\"},\"bgcolor\":\"#E5ECF6\",\"radialaxis\":{\"gridcolor\":\"white\",\"linecolor\":\"white\",\"ticks\":\"\"}},\"scene\":{\"xaxis\":{\"backgroundcolor\":\"#E5ECF6\",\"gridcolor\":\"white\",\"gridwidth\":2,\"linecolor\":\"white\",\"showbackground\":true,\"ticks\":\"\",\"zerolinecolor\":\"white\"},\"yaxis\":{\"backgroundcolor\":\"#E5ECF6\",\"gridcolor\":\"white\",\"gridwidth\":2,\"linecolor\":\"white\",\"showbackground\":true,\"ticks\":\"\",\"zerolinecolor\":\"white\"},\"zaxis\":{\"backgroundcolor\":\"#E5ECF6\",\"gridcolor\":\"white\",\"gridwidth\":2,\"linecolor\":\"white\",\"showbackground\":true,\"ticks\":\"\",\"zerolinecolor\":\"white\"}},\"shapedefaults\":{\"line\":{\"color\":\"#2a3f5f\"}},\"ternary\":{\"aaxis\":{\"gridcolor\":\"white\",\"linecolor\":\"white\",\"ticks\":\"\"},\"baxis\":{\"gridcolor\":\"white\",\"linecolor\":\"white\",\"ticks\":\"\"},\"bgcolor\":\"#E5ECF6\",\"caxis\":{\"gridcolor\":\"white\",\"linecolor\":\"white\",\"ticks\":\"\"}},\"title\":{\"x\":0.05},\"xaxis\":{\"automargin\":true,\"gridcolor\":\"white\",\"linecolor\":\"white\",\"ticks\":\"\",\"title\":{\"standoff\":15},\"zerolinecolor\":\"white\",\"zerolinewidth\":2},\"yaxis\":{\"automargin\":true,\"gridcolor\":\"white\",\"linecolor\":\"white\",\"ticks\":\"\",\"title\":{\"standoff\":15},\"zerolinecolor\":\"white\",\"zerolinewidth\":2}}},\"title\":{\"text\":\"Sub-Saharan African GDP per capita First order differencing\"},\"xaxis\":{\"nticks\":43,\"ticks\":\"\"},\"yaxis\":{\"nticks\":20}},                        {\"responsive\": true}                    ).then(function(){\n",
              "                            \n",
              "var gd = document.getElementById('dcf0c90b-34af-4025-b614-3489678f5aee');\n",
              "var x = new MutationObserver(function (mutations, observer) {{\n",
              "        var display = window.getComputedStyle(gd).display;\n",
              "        if (!display || display === 'none') {{\n",
              "            console.log([gd, 'removed!']);\n",
              "            Plotly.purge(gd);\n",
              "            observer.disconnect();\n",
              "        }}\n",
              "}});\n",
              "\n",
              "// Listen for the removal of the full notebook cells\n",
              "var notebookContainer = gd.closest('#notebook-container');\n",
              "if (notebookContainer) {{\n",
              "    x.observe(notebookContainer, {childList: true});\n",
              "}}\n",
              "\n",
              "// Listen for the clearing of the current output cell\n",
              "var outputEl = gd.closest('.output');\n",
              "if (outputEl) {{\n",
              "    x.observe(outputEl, {childList: true});\n",
              "}}\n",
              "\n",
              "                        })                };                            </script>        </div>\n",
              "</body>\n",
              "</html>"
            ]
          },
          "metadata": {}
        }
      ]
    },
    {
      "cell_type": "code",
      "source": [
        "from statsmodels.tsa.stattools import adfuller\n",
        "result02 = adfuller(y_diff)\n",
        "result02\n",
        "print('ADF Statistic: %f' % result02[0])\n",
        "print('p-value: %f' % result02[1])\n",
        "print('Critical Values:')\n",
        "for key, value in result02[4].items():\n",
        " print('\\t%s: %.3f' % (key, value))"
      ],
      "metadata": {
        "colab": {
          "base_uri": "https://localhost:8080/"
        },
        "id": "0VFGB2wQUh0y",
        "outputId": "eeace1ca-3a48-47a0-efb3-f91be6fcb984"
      },
      "execution_count": 17,
      "outputs": [
        {
          "output_type": "stream",
          "name": "stdout",
          "text": [
            "ADF Statistic: -4.750507\n",
            "p-value: 0.000068\n",
            "Critical Values:\n",
            "\t1%: -3.571\n",
            "\t5%: -2.923\n",
            "\t10%: -2.599\n"
          ]
        }
      ]
    },
    {
      "cell_type": "markdown",
      "source": [
        "We see that our p value has dropped to less than 0.05. Also, the ADF test statistic is less than the critical values at 1,5, and 10%. This means we fail to reject the null hypotheses after the first order differencing."
      ],
      "metadata": {
        "id": "IuuvIPdLtV6W"
      }
    },
    {
      "cell_type": "code",
      "source": [
        "clean['rolling_mean'] = y_diff.rolling(2).mean()\n",
        "clean['rolling_std'] = y_diff.rolling(2).std()\n",
        "plt.plot(clean['rolling_mean'], label='Rolling Mean')\n",
        "plt.plot(clean['rolling_std'], label='Rolling Std')\n",
        "plt.plot(y_diff, label='Raw Data')\n",
        "plt.legend()\n",
        "plt.show()"
      ],
      "metadata": {
        "colab": {
          "base_uri": "https://localhost:8080/",
          "height": 265
        },
        "id": "Rm-6UWBftCxf",
        "outputId": "9aae70b1-a30b-4c31-e6a6-84b654b81a38"
      },
      "execution_count": 18,
      "outputs": [
        {
          "output_type": "display_data",
          "data": {
            "text/plain": [
              "<Figure size 432x288 with 1 Axes>"
            ],
            "image/png": "[encoded data removed]"
          },
          "metadata": {
            "needs_background": "light"
          }
        }
      ]
    },
    {
      "cell_type": "code",
      "source": [
        "fig, ax = plt.subplots(figsize=(15,5))\n",
        "ax.set_facecolor('silver')\n",
        "plt.rc('xtick', labelsize=16)\n",
        "sm.graphics.tsa.plot_acf(y_diff,ax=ax,lags=49)\n",
        "plt.show()"
      ],
      "metadata": {
        "colab": {
          "base_uri": "https://localhost:8080/",
          "height": 336
        },
        "id": "TEs_8F3wWKjN",
        "outputId": "329626e3-1f85-4aa0-a2b3-690cf011da00"
      },
      "execution_count": 19,
      "outputs": [
        {
          "output_type": "display_data",
          "data": {
            "text/plain": [
              "<Figure size 1080x360 with 1 Axes>"
            ],
            "image/png": "[encoded data removed]"
          },
          "metadata": {
            "needs_background": "light"
          }
        }
      ]
    },
    {
      "cell_type": "code",
      "source": [
        "fig, ax = plt.subplots(figsize=(15,5))\n",
        "ax.set_facecolor('silver')\n",
        "sm.graphics.tsa.plot_pacf(y_diff,ax=ax, lags=24) #Lags=49 because of first order diff\n",
        "plt.show()"
      ],
      "metadata": {
        "colab": {
          "base_uri": "https://localhost:8080/",
          "height": 341
        },
        "id": "dBntTTeqf2dH",
        "outputId": "6e17b8b6-b065-40ee-ec09-2ac6ff42c92c"
      },
      "execution_count": 20,
      "outputs": [
        {
          "output_type": "display_data",
          "data": {
            "text/plain": [
              "<Figure size 1080x360 with 1 Axes>"
            ],
            "image/png": "[encoded data removed]"
          },
          "metadata": {
            "needs_background": "light"
          }
        }
      ]
    },
    {
      "cell_type": "markdown",
      "source": [
        "I reduced the lags to 24 when doing the PACF because the function needed less than 50% of available lags. I used the same number of lags for the ACF and still gives the same value as for 60 lags. Partial autocorrelation function (PACF) is more useful during the specification process for an autoregressive model. It displays only the correlation between two observations that the shorter lags between those observations do not explain. Analysts use partial autocorrelation plots to specify regression models with time series data and Auto Regressive Integrated Moving Average (ARIMA) models."
      ],
      "metadata": {
        "id": "6cH7IaTEW0cm"
      }
    },
    {
      "cell_type": "markdown",
      "source": [
        "# (C) MODEL"
      ],
      "metadata": {
        "id": "iP6v8tzYVFlq"
      }
    },
    {
      "cell_type": "code",
      "source": [
        "# p=12 because it is the first above the significance line.\n",
        "# d=1 since order of integration 1 makes the series stationary\n",
        "# q=12 \n",
        "mod = sm.tsa.statespace.SARIMAX(clean['GDP per capita (current US$)'].values,order=(12,1,12),enforce_stationarity=True,enforce_invertibility=True, maxiter=1000, method='css')\n",
        "mod_results1 = mod.fit()\n",
        "print(mod_results1.summary())"
      ],
      "metadata": {
        "colab": {
          "base_uri": "https://localhost:8080/"
        },
        "id": "Q-vgBDTfVJq2",
        "outputId": "ae75eb03-fe08-4dd6-e367-f3524cad373a"
      },
      "execution_count": 21,
      "outputs": [
        {
          "output_type": "stream",
          "name": "stderr",
          "text": [
            "/usr/local/lib/python3.8/dist-packages/statsmodels/tsa/statespace/sarimax.py:966: UserWarning:\n",
            "\n",
            "Non-stationary starting autoregressive parameters found. Using zeros as starting parameters.\n",
            "\n",
            "/usr/local/lib/python3.8/dist-packages/statsmodels/tsa/statespace/sarimax.py:978: UserWarning:\n",
            "\n",
            "Non-invertible starting MA parameters found. Using zeros as starting parameters.\n",
            "\n"
          ]
        },
        {
          "output_type": "stream",
          "name": "stdout",
          "text": [
            "                               SARIMAX Results                                \n",
            "==============================================================================\n",
            "Dep. Variable:                      y   No. Observations:                   51\n",
            "Model:             SARIMAX(12, 1, 12)   Log Likelihood                -663.324\n",
            "Date:                Wed, 21 Dec 2022   AIC                           1376.647\n",
            "Time:                        15:54:12   BIC                           1424.448\n",
            "Sample:                             0   HQIC                          1394.850\n",
            "                                 - 51                                         \n",
            "Covariance Type:                  opg                                         \n",
            "==============================================================================\n",
            "                 coef    std err          z      P>|z|      [0.025      0.975]\n",
            "------------------------------------------------------------------------------\n",
            "ar.L1          0.1599      0.005     29.192      0.000       0.149       0.171\n",
            "ar.L2          1.1205      0.021     54.486      0.000       1.080       1.161\n",
            "ar.L3         -0.9924      0.020    -49.086      0.000      -1.032      -0.953\n",
            "ar.L4          0.1131      0.010     11.377      0.000       0.094       0.133\n",
            "ar.L5          0.6005      0.015     40.298      0.000       0.571       0.630\n",
            "ar.L6         -0.2056      0.005    -41.865      0.000      -0.215      -0.196\n",
            "ar.L7          0.9455      0.016     60.518      0.000       0.915       0.976\n",
            "ar.L8         -0.4612      0.020    -22.596      0.000      -0.501      -0.421\n",
            "ar.L9         -0.5245      0.018    -28.512      0.000      -0.561      -0.488\n",
            "ar.L10         1.1675      0.015     80.053      0.000       1.139       1.196\n",
            "ar.L11        -0.1506      0.011    -13.998      0.000      -0.172      -0.130\n",
            "ar.L12        -0.7852      0.017    -44.884      0.000      -0.820      -0.751\n",
            "ma.L1         -0.1621      0.023     -7.202      0.000      -0.206      -0.118\n",
            "ma.L2         -0.4854      0.037    -13.033      0.000      -0.558      -0.412\n",
            "ma.L3          0.7919      0.021     37.384      0.000       0.750       0.833\n",
            "ma.L4         -0.6023      0.031    -19.715      0.000      -0.662      -0.542\n",
            "ma.L5          0.8010      0.028     28.762      0.000       0.746       0.856\n",
            "ma.L6          0.0017      0.017      0.098      0.922      -0.032       0.036\n",
            "ma.L7         -0.7985      0.036    -22.021      0.000      -0.870      -0.727\n",
            "ma.L8          0.6045      0.030     20.172      0.000       0.546       0.663\n",
            "ma.L9         -0.7900      0.015    -54.289      0.000      -0.819      -0.761\n",
            "ma.L10         0.4870      0.049      9.885      0.000       0.390       0.584\n",
            "ma.L11         0.1644      0.020      8.178      0.000       0.125       0.204\n",
            "ma.L12        -0.9987      0.022    -44.609      0.000      -1.043      -0.955\n",
            "sigma2      2501.9278    2.3e-05   1.09e+08      0.000    2501.928    2501.928\n",
            "===================================================================================\n",
            "Ljung-Box (L1) (Q):                   1.43   Jarque-Bera (JB):                 1.10\n",
            "Prob(Q):                              0.23   Prob(JB):                         0.58\n",
            "Heteroskedasticity (H):               8.64   Skew:                             0.27\n",
            "Prob(H) (two-sided):                  0.00   Kurtosis:                         3.48\n",
            "===================================================================================\n",
            "\n",
            "Warnings:\n",
            "[1] Covariance matrix calculated using the outer product of gradients (complex-step).\n",
            "[2] Covariance matrix is singular or near-singular, with condition number 6.21e+20. Standard errors may be unstable.\n"
          ]
        },
        {
          "output_type": "stream",
          "name": "stderr",
          "text": [
            "/usr/local/lib/python3.8/dist-packages/statsmodels/base/model.py:566: ConvergenceWarning:\n",
            "\n",
            "Maximum Likelihood optimization failed to converge. Check mle_retvals\n",
            "\n"
          ]
        }
      ]
    },
    {
      "cell_type": "code",
      "source": [
        "mod_results1.plot_diagnostics(figsize=(15, 12),lags=29)\n",
        "plt.show()"
      ],
      "metadata": {
        "colab": {
          "base_uri": "https://localhost:8080/",
          "height": 735
        },
        "id": "F7HrJthG8FtU",
        "outputId": "6a22773b-4b67-4328-a174-bc61e71287dd"
      },
      "execution_count": 22,
      "outputs": [
        {
          "output_type": "display_data",
          "data": {
            "text/plain": [
              "<Figure size 1080x864 with 4 Axes>"
            ],
            "image/png": "[encoded data removed]"
          },
          "metadata": {
            "needs_background": "light"
          }
        }
      ]
    },
    {
      "cell_type": "markdown",
      "source": [
        "The standarized residual plot of the fitted model in the upper left corner appears to be white noise as it does not display any pattern. The correlogram looks like that of discrete white noise. Its time series residuals show low correlations with lagged residuals. Also, it has a strong peak at lag 0."
      ],
      "metadata": {
        "id": "cazPfiKolXvk"
      }
    },
    {
      "cell_type": "code",
      "source": [
        "forecast=mod_results1.predict(start=0,end=64)\n",
        "forecast=pd.DataFrame(forecast, columns = ['projection'])\n",
        "forecast.index=['1971','1972','1973','1974','1975','1976','1977',\n",
        "                '1978','1979','1980','1981','1982','1983','1984','1985','1986',\n",
        "                '1987','1988','1989','1991', '1992', '1993', '1994', '1995', '1996',\n",
        "                '1997', '1998','1999', '2000', '2001', '2002', '2003', '2004', \n",
        "                '2005', '2006', '2007','2008', '2009', '2010', '2011', '2012', \n",
        "                '2013', '2014', '2015', '2016','2017','2018','2019','2020','2021',\n",
        "                '2022','2023','2024','2025','2026','2027','2028','2029','2030',\n",
        "                '2031','2032','2032','2033','2034','2035']\n"
      ],
      "metadata": {
        "id": "KlHtNmL7yR3c"
      },
      "execution_count": 23,
      "outputs": []
    },
    {
      "cell_type": "code",
      "source": [
        "# Create traces\n",
        "trace01 = go.Scatter(\n",
        "    x = clean['YEAR'],\n",
        "    y = clean['GDP per capita (current US$)'],\n",
        "    mode = 'markers',\n",
        "    name = 'Actual GDP per cap',marker = dict(size=7))\n",
        "trace02 = go.Scatter(\n",
        "    x = forecast.iloc[2:].index,\n",
        "    y = forecast.iloc[2:].projection,\n",
        "    mode = 'lines+markers',\n",
        "    name = 'Arima model (12,1,12) in sample model & projection to 2035',marker = dict(size=7),opacity = 0.6)\n",
        "\n",
        "layout = go.Layout(title= 'In-sample prediction and out-of-sample forecasting to 2035 per capita - GDP PPP US$ SSA',\n",
        "    xaxis = dict(ticks='', nticks=43),\n",
        "    yaxis = dict(nticks=20), legend=dict(x=0.1, y=1))\n",
        "data = [trace01, trace02]\n",
        "fig =go.Figure(data=data, layout=layout)\n",
        "py.iplot(fig, filename='scatter-mode')"
      ],
      "metadata": {
        "colab": {
          "base_uri": "https://localhost:8080/",
          "height": 542
        },
        "id": "D3pRfX4xJGr4",
        "outputId": "d2a5c763-f0a1-471d-8270-1571ff7aa1ac"
      },
      "execution_count": 25,
      "outputs": [
        {
          "output_type": "display_data",
          "data": {
            "text/html": [
              "<html>\n",
              "<head><meta charset=\"utf-8\" /></head>\n",
              "<body>\n",
              "    <div>            <script src=\"https://cdnjs.cloudflare.com/ajax/libs/mathjax/2.7.5/MathJax.js?config=TeX-AMS-MML_SVG\"></script><script type=\"text/javascript\">if (window.MathJax) {MathJax.Hub.Config({SVG: {font: \"STIX-Web\"}});}</script>                <script type=\"text/javascript\">window.PlotlyConfig = {MathJaxConfig: 'local'};</script>\n",
              "        <script src=\"https://cdn.plot.ly/plotly-2.8.3.min.js\"></script>                <div id=\"31089a71-ba3f-453a-ba61-77d42ba05c43\" class=\"plotly-graph-div\" style=\"height:525px; width:100%;\"></div>            <script type=\"text/javascript\">                                    window.PLOTLYENV=window.PLOTLYENV || {};                                    if (document.getElementById(\"31089a71-ba3f-453a-ba61-77d42ba05c43\")) {                    Plotly.newPlot(                        \"31089a71-ba3f-453a-ba61-77d42ba05c43\",                        [{\"marker\":{\"size\":7},\"mode\":\"markers\",\"name\":\"Actual GDP per cap\",\"x\":[1971.0,1972.0,1973.0,1974.0,1975.0,1976.0,1977.0,1978.0,1979.0,1980.0,1981.0,1982.0,1983.0,1984.0,1985.0,1986.0,1987.0,1988.0,1989.0,1990.0,1991.0,1992.0,1993.0,1994.0,1995.0,1996.0,1997.0,1998.0,1999.0,2000.0,2001.0,2002.0,2003.0,2004.0,2005.0,2006.0,2007.0,2008.0,2009.0,2010.0,2011.0,2012.0,2013.0,2014.0,2015.0,2016.0,2017.0,2018.0,2019.0,2020.0,2021.0],\"y\":[452.0,497.0,617.0,784.0,844.0,895.0,952.0,1021.0,1194.0,1469.0,2062.0,1831.0,1521.0,1283.0,1169.0,1148.0,1251.0,1271.0,1245.0,1426.0,1431.0,1287.0,1160.0,1084.0,1234.0,1272.0,1281.0,1217.0,1204.0,1239.0,1173.0,1260.0,1527.0,1848.0,2146.0,2490.0,2814.0,3149.0,2912.0,3347.0,3673.0,3742.0,3906.0,3949.0,3451.0,3120.0,3243.0,3245.0,3289.0,3071.0,3333.0],\"type\":\"scatter\"},{\"marker\":{\"size\":7},\"mode\":\"lines+markers\",\"name\":\"Arima model (12,1,12) in sample model & projection to 2035\",\"opacity\":0.6,\"x\":[\"1973\",\"1974\",\"1975\",\"1976\",\"1977\",\"1978\",\"1979\",\"1980\",\"1981\",\"1982\",\"1983\",\"1984\",\"1985\",\"1986\",\"1987\",\"1988\",\"1989\",\"1991\",\"1992\",\"1993\",\"1994\",\"1995\",\"1996\",\"1997\",\"1998\",\"1999\",\"2000\",\"2001\",\"2002\",\"2003\",\"2004\",\"2005\",\"2006\",\"2007\",\"2008\",\"2009\",\"2010\",\"2011\",\"2012\",\"2013\",\"2014\",\"2015\",\"2016\",\"2017\",\"2018\",\"2019\",\"2020\",\"2021\",\"2022\",\"2023\",\"2024\",\"2025\",\"2026\",\"2027\",\"2028\",\"2029\",\"2030\",\"2031\",\"2032\",\"2032\",\"2033\",\"2034\",\"2035\"],\"y\":[22.938338656922042,946.1169763758885,394.0891294729118,382.7949136805832,916.3990394196259,640.187368696623,613.2686442167899,1161.4087640154962,1614.5796148269342,2049.697555496124,1960.8897264522948,1091.8235181702194,1177.684555903104,1400.8565723042782,1444.7748797017357,1438.0261447600542,1073.392655802939,925.5729200848849,1523.2531905012795,1477.3798512735084,632.7395941167812,910.2454826262731,1521.3576773391283,1455.7632900456085,1590.9132434791259,1486.4684317328567,990.3762829766343,1086.357923786636,1209.0514138021597,823.2292415698053,879.7000551671797,1853.4959076050009,2217.5162208049715,2297.170893616252,2749.225707643929,3189.952875339527,3456.8601102405514,3476.6936972515787,3288.2549151868884,4049.8209423974795,4359.9347932043,3832.5372044879955,3662.1599330903723,3404.2161472850935,3105.1624407299237,3231.677098592244,2928.4483444470898,2954.5021203145347,3386.150941811652,3166.950227196835,2885.0506518967563,3172.2113344304344,2996.631748215027,2780.7761485009955,2709.9761381457633,3198.8164642258403,3339.638175488011,3318.275918843387,3388.737440272749,2980.7697303721916,2598.5516000632706,2624.8542237842876,3153.016477708221],\"type\":\"scatter\"}],                        {\"legend\":{\"x\":0.1,\"y\":1},\"template\":{\"data\":{\"barpolar\":[{\"marker\":{\"line\":{\"color\":\"#E5ECF6\",\"width\":0.5},\"pattern\":{\"fillmode\":\"overlay\",\"size\":10,\"solidity\":0.2}},\"type\":\"barpolar\"}],\"bar\":[{\"error_x\":{\"color\":\"#2a3f5f\"},\"error_y\":{\"color\":\"#2a3f5f\"},\"marker\":{\"line\":{\"color\":\"#E5ECF6\",\"width\":0.5},\"pattern\":{\"fillmode\":\"overlay\",\"size\":10,\"solidity\":0.2}},\"type\":\"bar\"}],\"carpet\":[{\"aaxis\":{\"endlinecolor\":\"#2a3f5f\",\"gridcolor\":\"white\",\"linecolor\":\"white\",\"minorgridcolor\":\"white\",\"startlinecolor\":\"#2a3f5f\"},\"baxis\":{\"endlinecolor\":\"#2a3f5f\",\"gridcolor\":\"white\",\"linecolor\":\"white\",\"minorgridcolor\":\"white\",\"startlinecolor\":\"#2a3f5f\"},\"type\":\"carpet\"}],\"choropleth\":[{\"colorbar\":{\"outlinewidth\":0,\"ticks\":\"\"},\"type\":\"choropleth\"}],\"contourcarpet\":[{\"colorbar\":{\"outlinewidth\":0,\"ticks\":\"\"},\"type\":\"contourcarpet\"}],\"contour\":[{\"colorbar\":{\"outlinewidth\":0,\"ticks\":\"\"},\"colorscale\":[[0.0,\"#0d0887\"],[0.1111111111111111,\"#46039f\"],[0.2222222222222222,\"#7201a8\"],[0.3333333333333333,\"#9c179e\"],[0.4444444444444444,\"#bd3786\"],[0.5555555555555556,\"#d8576b\"],[0.6666666666666666,\"#ed7953\"],[0.7777777777777778,\"#fb9f3a\"],[0.8888888888888888,\"#fdca26\"],[1.0,\"#f0f921\"]],\"type\":\"contour\"}],\"heatmapgl\":[{\"colorbar\":{\"outlinewidth\":0,\"ticks\":\"\"},\"colorscale\":[[0.0,\"#0d0887\"],[0.1111111111111111,\"#46039f\"],[0.2222222222222222,\"#7201a8\"],[0.3333333333333333,\"#9c179e\"],[0.4444444444444444,\"#bd3786\"],[0.5555555555555556,\"#d8576b\"],[0.6666666666666666,\"#ed7953\"],[0.7777777777777778,\"#fb9f3a\"],[0.8888888888888888,\"#fdca26\"],[1.0,\"#f0f921\"]],\"type\":\"heatmapgl\"}],\"heatmap\":[{\"colorbar\":{\"outlinewidth\":0,\"ticks\":\"\"},\"colorscale\":[[0.0,\"#0d0887\"],[0.1111111111111111,\"#46039f\"],[0.2222222222222222,\"#7201a8\"],[0.3333333333333333,\"#9c179e\"],[0.4444444444444444,\"#bd3786\"],[0.5555555555555556,\"#d8576b\"],[0.6666666666666666,\"#ed7953\"],[0.7777777777777778,\"#fb9f3a\"],[0.8888888888888888,\"#fdca26\"],[1.0,\"#f0f921\"]],\"type\":\"heatmap\"}],\"histogram2dcontour\":[{\"colorbar\":{\"outlinewidth\":0,\"ticks\":\"\"},\"colorscale\":[[0.0,\"#0d0887\"],[0.1111111111111111,\"#46039f\"],[0.2222222222222222,\"#7201a8\"],[0.3333333333333333,\"#9c179e\"],[0.4444444444444444,\"#bd3786\"],[0.5555555555555556,\"#d8576b\"],[0.6666666666666666,\"#ed7953\"],[0.7777777777777778,\"#fb9f3a\"],[0.8888888888888888,\"#fdca26\"],[1.0,\"#f0f921\"]],\"type\":\"histogram2dcontour\"}],\"histogram2d\":[{\"colorbar\":{\"outlinewidth\":0,\"ticks\":\"\"},\"colorscale\":[[0.0,\"#0d0887\"],[0.1111111111111111,\"#46039f\"],[0.2222222222222222,\"#7201a8\"],[0.3333333333333333,\"#9c179e\"],[0.4444444444444444,\"#bd3786\"],[0.5555555555555556,\"#d8576b\"],[0.6666666666666666,\"#ed7953\"],[0.7777777777777778,\"#fb9f3a\"],[0.8888888888888888,\"#fdca26\"],[1.0,\"#f0f921\"]],\"type\":\"histogram2d\"}],\"histogram\":[{\"marker\":{\"pattern\":{\"fillmode\":\"overlay\",\"size\":10,\"solidity\":0.2}},\"type\":\"histogram\"}],\"mesh3d\":[{\"colorbar\":{\"outlinewidth\":0,\"ticks\":\"\"},\"type\":\"mesh3d\"}],\"parcoords\":[{\"line\":{\"colorbar\":{\"outlinewidth\":0,\"ticks\":\"\"}},\"type\":\"parcoords\"}],\"pie\":[{\"automargin\":true,\"type\":\"pie\"}],\"scatter3d\":[{\"line\":{\"colorbar\":{\"outlinewidth\":0,\"ticks\":\"\"}},\"marker\":{\"colorbar\":{\"outlinewidth\":0,\"ticks\":\"\"}},\"type\":\"scatter3d\"}],\"scattercarpet\":[{\"marker\":{\"colorbar\":{\"outlinewidth\":0,\"ticks\":\"\"}},\"type\":\"scattercarpet\"}],\"scattergeo\":[{\"marker\":{\"colorbar\":{\"outlinewidth\":0,\"ticks\":\"\"}},\"type\":\"scattergeo\"}],\"scattergl\":[{\"marker\":{\"colorbar\":{\"outlinewidth\":0,\"ticks\":\"\"}},\"type\":\"scattergl\"}],\"scattermapbox\":[{\"marker\":{\"colorbar\":{\"outlinewidth\":0,\"ticks\":\"\"}},\"type\":\"scattermapbox\"}],\"scatterpolargl\":[{\"marker\":{\"colorbar\":{\"outlinewidth\":0,\"ticks\":\"\"}},\"type\":\"scatterpolargl\"}],\"scatterpolar\":[{\"marker\":{\"colorbar\":{\"outlinewidth\":0,\"ticks\":\"\"}},\"type\":\"scatterpolar\"}],\"scatter\":[{\"marker\":{\"colorbar\":{\"outlinewidth\":0,\"ticks\":\"\"}},\"type\":\"scatter\"}],\"scatterternary\":[{\"marker\":{\"colorbar\":{\"outlinewidth\":0,\"ticks\":\"\"}},\"type\":\"scatterternary\"}],\"surface\":[{\"colorbar\":{\"outlinewidth\":0,\"ticks\":\"\"},\"colorscale\":[[0.0,\"#0d0887\"],[0.1111111111111111,\"#46039f\"],[0.2222222222222222,\"#7201a8\"],[0.3333333333333333,\"#9c179e\"],[0.4444444444444444,\"#bd3786\"],[0.5555555555555556,\"#d8576b\"],[0.6666666666666666,\"#ed7953\"],[0.7777777777777778,\"#fb9f3a\"],[0.8888888888888888,\"#fdca26\"],[1.0,\"#f0f921\"]],\"type\":\"surface\"}],\"table\":[{\"cells\":{\"fill\":{\"color\":\"#EBF0F8\"},\"line\":{\"color\":\"white\"}},\"header\":{\"fill\":{\"color\":\"#C8D4E3\"},\"line\":{\"color\":\"white\"}},\"type\":\"table\"}]},\"layout\":{\"annotationdefaults\":{\"arrowcolor\":\"#2a3f5f\",\"arrowhead\":0,\"arrowwidth\":1},\"autotypenumbers\":\"strict\",\"coloraxis\":{\"colorbar\":{\"outlinewidth\":0,\"ticks\":\"\"}},\"colorscale\":{\"diverging\":[[0,\"#8e0152\"],[0.1,\"#c51b7d\"],[0.2,\"#de77ae\"],[0.3,\"#f1b6da\"],[0.4,\"#fde0ef\"],[0.5,\"#f7f7f7\"],[0.6,\"#e6f5d0\"],[0.7,\"#b8e186\"],[0.8,\"#7fbc41\"],[0.9,\"#4d9221\"],[1,\"#276419\"]],\"sequential\":[[0.0,\"#0d0887\"],[0.1111111111111111,\"#46039f\"],[0.2222222222222222,\"#7201a8\"],[0.3333333333333333,\"#9c179e\"],[0.4444444444444444,\"#bd3786\"],[0.5555555555555556,\"#d8576b\"],[0.6666666666666666,\"#ed7953\"],[0.7777777777777778,\"#fb9f3a\"],[0.8888888888888888,\"#fdca26\"],[1.0,\"#f0f921\"]],\"sequentialminus\":[[0.0,\"#0d0887\"],[0.1111111111111111,\"#46039f\"],[0.2222222222222222,\"#7201a8\"],[0.3333333333333333,\"#9c179e\"],[0.4444444444444444,\"#bd3786\"],[0.5555555555555556,\"#d8576b\"],[0.6666666666666666,\"#ed7953\"],[0.7777777777777778,\"#fb9f3a\"],[0.8888888888888888,\"#fdca26\"],[1.0,\"#f0f921\"]]},\"colorway\":[\"#636efa\",\"#EF553B\",\"#00cc96\",\"#ab63fa\",\"#FFA15A\",\"#19d3f3\",\"#FF6692\",\"#B6E880\",\"#FF97FF\",\"#FECB52\"],\"font\":{\"color\":\"#2a3f5f\"},\"geo\":{\"bgcolor\":\"white\",\"lakecolor\":\"white\",\"landcolor\":\"#E5ECF6\",\"showlakes\":true,\"showland\":true,\"subunitcolor\":\"white\"},\"hoverlabel\":{\"align\":\"left\"},\"hovermode\":\"closest\",\"mapbox\":{\"style\":\"light\"},\"paper_bgcolor\":\"white\",\"plot_bgcolor\":\"#E5ECF6\",\"polar\":{\"angularaxis\":{\"gridcolor\":\"white\",\"linecolor\":\"white\",\"ticks\":\"\"},\"bgcolor\":\"#E5ECF6\",\"radialaxis\":{\"gridcolor\":\"white\",\"linecolor\":\"white\",\"ticks\":\"\"}},\"scene\":{\"xaxis\":{\"backgroundcolor\":\"#E5ECF6\",\"gridcolor\":\"white\",\"gridwidth\":2,\"linecolor\":\"white\",\"showbackground\":true,\"ticks\":\"\",\"zerolinecolor\":\"white\"},\"yaxis\":{\"backgroundcolor\":\"#E5ECF6\",\"gridcolor\":\"white\",\"gridwidth\":2,\"linecolor\":\"white\",\"showbackground\":true,\"ticks\":\"\",\"zerolinecolor\":\"white\"},\"zaxis\":{\"backgroundcolor\":\"#E5ECF6\",\"gridcolor\":\"white\",\"gridwidth\":2,\"linecolor\":\"white\",\"showbackground\":true,\"ticks\":\"\",\"zerolinecolor\":\"white\"}},\"shapedefaults\":{\"line\":{\"color\":\"#2a3f5f\"}},\"ternary\":{\"aaxis\":{\"gridcolor\":\"white\",\"linecolor\":\"white\",\"ticks\":\"\"},\"baxis\":{\"gridcolor\":\"white\",\"linecolor\":\"white\",\"ticks\":\"\"},\"bgcolor\":\"#E5ECF6\",\"caxis\":{\"gridcolor\":\"white\",\"linecolor\":\"white\",\"ticks\":\"\"}},\"title\":{\"x\":0.05},\"xaxis\":{\"automargin\":true,\"gridcolor\":\"white\",\"linecolor\":\"white\",\"ticks\":\"\",\"title\":{\"standoff\":15},\"zerolinecolor\":\"white\",\"zerolinewidth\":2},\"yaxis\":{\"automargin\":true,\"gridcolor\":\"white\",\"linecolor\":\"white\",\"ticks\":\"\",\"title\":{\"standoff\":15},\"zerolinecolor\":\"white\",\"zerolinewidth\":2}}},\"title\":{\"text\":\"In-sample prediction and out-of-sample forecasting to 2035 per capita - GDP PPP US$ SSA\"},\"xaxis\":{\"nticks\":43,\"ticks\":\"\"},\"yaxis\":{\"nticks\":20}},                        {\"responsive\": true}                    ).then(function(){\n",
              "                            \n",
              "var gd = document.getElementById('31089a71-ba3f-453a-ba61-77d42ba05c43');\n",
              "var x = new MutationObserver(function (mutations, observer) {{\n",
              "        var display = window.getComputedStyle(gd).display;\n",
              "        if (!display || display === 'none') {{\n",
              "            console.log([gd, 'removed!']);\n",
              "            Plotly.purge(gd);\n",
              "            observer.disconnect();\n",
              "        }}\n",
              "}});\n",
              "\n",
              "// Listen for the removal of the full notebook cells\n",
              "var notebookContainer = gd.closest('#notebook-container');\n",
              "if (notebookContainer) {{\n",
              "    x.observe(notebookContainer, {childList: true});\n",
              "}}\n",
              "\n",
              "// Listen for the clearing of the current output cell\n",
              "var outputEl = gd.closest('.output');\n",
              "if (outputEl) {{\n",
              "    x.observe(outputEl, {childList: true});\n",
              "}}\n",
              "\n",
              "                        })                };                            </script>        </div>\n",
              "</body>\n",
              "</html>"
            ]
          },
          "metadata": {}
        }
      ]
    },
    {
      "cell_type": "code",
      "source": [
        "from sklearn.metrics import mean_absolute_percentage_error\n",
        "import math\n",
        "from math import sqrt\n",
        "y_true = clean['GDP per capita (current US$)']\n",
        "y_pred = forecast.iloc[0:51].projection\n",
        "# report performance\n",
        "mse = mean_squared_error(y_true, y_pred)\n",
        "print('MSE: '+str(mse))\n",
        "mae = mean_absolute_error(y_true, y_pred)\n",
        "print('MAE: '+str(mae))\n",
        "rmse = math.sqrt(mean_squared_error(y_true, y_pred))\n",
        "print('RMSE: '+str(rmse))\n",
        "mape = mean_absolute_percentage_error(y_true, y_pred)\n",
        "print('MAPE: '+str(mape))"
      ],
      "metadata": {
        "colab": {
          "base_uri": "https://localhost:8080/"
        },
        "id": "GwKQfchwND6A",
        "outputId": "560a3255-98f4-4704-9c1c-1a28fd3f6aaa"
      },
      "execution_count": 28,
      "outputs": [
        {
          "output_type": "stream",
          "name": "stdout",
          "text": [
            "MSE: 97485.66808725592\n",
            "MAE: 259.4965739141527\n",
            "RMSE: 312.22694964921897\n",
            "MAPE: 0.202268803057757\n"
          ]
        }
      ]
    },
    {
      "cell_type": "markdown",
      "source": [
        "We see that our ARIMA (12,1,12) model predicts that without any underlying economic structural change; at the current growth patterns, the GDP per capita in Sub-Saharan Africa will not increase. It will only be within the range upwards of 2900 US dollars and not more than 3400 US dollars.\n",
        "\n",
        "We have to account that the forecasting results of this model are only predicted values, accounting for the underlying structure of the Time Series over the last 61 years."
      ],
      "metadata": {
        "id": "qLV_oTq2rGLh"
      }
    }
  ]
}