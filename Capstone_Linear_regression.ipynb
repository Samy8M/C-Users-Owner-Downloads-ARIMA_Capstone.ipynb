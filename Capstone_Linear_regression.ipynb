{
  "nbformat": 4,
  "nbformat_minor": 0,
  "metadata": {
    "colab": {
      "provenance": []
    },
    "kernelspec": {
      "name": "python3",
      "display_name": "Python 3"
    },
    "language_info": {
      "name": "python"
    }
  },
  "cells": [
    {
      "cell_type": "markdown",
      "source": [
        "# LINEAR REGRESSION ANALYSIS "
      ],
      "metadata": {
        "id": "e-2Vez6DLrrs"
      }
    },
    {
      "cell_type": "code",
      "execution_count": 1,
      "metadata": {
        "id": "hfE6PVoCLkPR"
      },
      "outputs": [],
      "source": [
        "import numpy as np\n",
        "import pandas as pd\n",
        "import statsmodels.formula.api as smf\n",
        "import statsmodels.stats.api as sms\n",
        "import statsmodels.api as sm\n",
        "from statsmodels.compat import lzip\n",
        "import pickle"
      ]
    },
    {
      "cell_type": "code",
      "source": [
        "#Upload file from local directory\n",
        "#For images you can upload a zip file\n",
        "from google.colab import files\n",
        "uploaded = files.upload()"
      ],
      "metadata": {
        "colab": {
          "base_uri": "https://localhost:8080/",
          "height": 73
        },
        "id": "6A86cEvtMS9M",
        "outputId": "09e34561-0bc8-4021-9130-68cec08275c1"
      },
      "execution_count": 2,
      "outputs": [
        {
          "output_type": "display_data",
          "data": {
            "text/plain": [
              "<IPython.core.display.HTML object>"
            ],
            "text/html": [
              "\n",
              "     <input type=\"file\" id=\"files-81476b2a-03fa-4334-8e89-549d769d4bb6\" name=\"files[]\" multiple disabled\n",
              "        style=\"border:none\" />\n",
              "     <output id=\"result-81476b2a-03fa-4334-8e89-549d769d4bb6\">\n",
              "      Upload widget is only available when the cell has been executed in the\n",
              "      current browser session. Please rerun this cell to enable.\n",
              "      </output>\n",
              "      <script>// Copyright 2017 Google LLC\n",
              "//\n",
              "// Licensed under the Apache License, Version 2.0 (the \"License\");\n",
              "// you may not use this file except in compliance with the License.\n",
              "// You may obtain a copy of the License at\n",
              "//\n",
              "//      http://www.apache.org/licenses/LICENSE-2.0\n",
              "//\n",
              "// Unless required by applicable law or agreed to in writing, software\n",
              "// distributed under the License is distributed on an \"AS IS\" BASIS,\n",
              "// WITHOUT WARRANTIES OR CONDITIONS OF ANY KIND, either express or implied.\n",
              "// See the License for the specific language governing permissions and\n",
              "// limitations under the License.\n",
              "\n",
              "/**\n",
              " * @fileoverview Helpers for google.colab Python module.\n",
              " */\n",
              "(function(scope) {\n",
              "function span(text, styleAttributes = {}) {\n",
              "  const element = document.createElement('span');\n",
              "  element.textContent = text;\n",
              "  for (const key of Object.keys(styleAttributes)) {\n",
              "    element.style[key] = styleAttributes[key];\n",
              "  }\n",
              "  return element;\n",
              "}\n",
              "\n",
              "// Max number of bytes which will be uploaded at a time.\n",
              "const MAX_PAYLOAD_SIZE = 100 * 1024;\n",
              "\n",
              "function _uploadFiles(inputId, outputId) {\n",
              "  const steps = uploadFilesStep(inputId, outputId);\n",
              "  const outputElement = document.getElementById(outputId);\n",
              "  // Cache steps on the outputElement to make it available for the next call\n",
              "  // to uploadFilesContinue from Python.\n",
              "  outputElement.steps = steps;\n",
              "\n",
              "  return _uploadFilesContinue(outputId);\n",
              "}\n",
              "\n",
              "// This is roughly an async generator (not supported in the browser yet),\n",
              "// where there are multiple asynchronous steps and the Python side is going\n",
              "// to poll for completion of each step.\n",
              "// This uses a Promise to block the python side on completion of each step,\n",
              "// then passes the result of the previous step as the input to the next step.\n",
              "function _uploadFilesContinue(outputId) {\n",
              "  const outputElement = document.getElementById(outputId);\n",
              "  const steps = outputElement.steps;\n",
              "\n",
              "  const next = steps.next(outputElement.lastPromiseValue);\n",
              "  return Promise.resolve(next.value.promise).then((value) => {\n",
              "    // Cache the last promise value to make it available to the next\n",
              "    // step of the generator.\n",
              "    outputElement.lastPromiseValue = value;\n",
              "    return next.value.response;\n",
              "  });\n",
              "}\n",
              "\n",
              "/**\n",
              " * Generator function which is called between each async step of the upload\n",
              " * process.\n",
              " * @param {string} inputId Element ID of the input file picker element.\n",
              " * @param {string} outputId Element ID of the output display.\n",
              " * @return {!Iterable<!Object>} Iterable of next steps.\n",
              " */\n",
              "function* uploadFilesStep(inputId, outputId) {\n",
              "  const inputElement = document.getElementById(inputId);\n",
              "  inputElement.disabled = false;\n",
              "\n",
              "  const outputElement = document.getElementById(outputId);\n",
              "  outputElement.innerHTML = '';\n",
              "\n",
              "  const pickedPromise = new Promise((resolve) => {\n",
              "    inputElement.addEventListener('change', (e) => {\n",
              "      resolve(e.target.files);\n",
              "    });\n",
              "  });\n",
              "\n",
              "  const cancel = document.createElement('button');\n",
              "  inputElement.parentElement.appendChild(cancel);\n",
              "  cancel.textContent = 'Cancel upload';\n",
              "  const cancelPromise = new Promise((resolve) => {\n",
              "    cancel.onclick = () => {\n",
              "      resolve(null);\n",
              "    };\n",
              "  });\n",
              "\n",
              "  // Wait for the user to pick the files.\n",
              "  const files = yield {\n",
              "    promise: Promise.race([pickedPromise, cancelPromise]),\n",
              "    response: {\n",
              "      action: 'starting',\n",
              "    }\n",
              "  };\n",
              "\n",
              "  cancel.remove();\n",
              "\n",
              "  // Disable the input element since further picks are not allowed.\n",
              "  inputElement.disabled = true;\n",
              "\n",
              "  if (!files) {\n",
              "    return {\n",
              "      response: {\n",
              "        action: 'complete',\n",
              "      }\n",
              "    };\n",
              "  }\n",
              "\n",
              "  for (const file of files) {\n",
              "    const li = document.createElement('li');\n",
              "    li.append(span(file.name, {fontWeight: 'bold'}));\n",
              "    li.append(span(\n",
              "        `(${file.type || 'n/a'}) - ${file.size} bytes, ` +\n",
              "        `last modified: ${\n",
              "            file.lastModifiedDate ? file.lastModifiedDate.toLocaleDateString() :\n",
              "                                    'n/a'} - `));\n",
              "    const percent = span('0% done');\n",
              "    li.appendChild(percent);\n",
              "\n",
              "    outputElement.appendChild(li);\n",
              "\n",
              "    const fileDataPromise = new Promise((resolve) => {\n",
              "      const reader = new FileReader();\n",
              "      reader.onload = (e) => {\n",
              "        resolve(e.target.result);\n",
              "      };\n",
              "      reader.readAsArrayBuffer(file);\n",
              "    });\n",
              "    // Wait for the data to be ready.\n",
              "    let fileData = yield {\n",
              "      promise: fileDataPromise,\n",
              "      response: {\n",
              "        action: 'continue',\n",
              "      }\n",
              "    };\n",
              "\n",
              "    // Use a chunked sending to avoid message size limits. See b/62115660.\n",
              "    let position = 0;\n",
              "    do {\n",
              "      const length = Math.min(fileData.byteLength - position, MAX_PAYLOAD_SIZE);\n",
              "      const chunk = new Uint8Array(fileData, position, length);\n",
              "      position += length;\n",
              "\n",
              "      const base64 = btoa(String.fromCharCode.apply(null, chunk));\n",
              "      yield {\n",
              "        response: {\n",
              "          action: 'append',\n",
              "          file: file.name,\n",
              "          data: base64,\n",
              "        },\n",
              "      };\n",
              "\n",
              "      let percentDone = fileData.byteLength === 0 ?\n",
              "          100 :\n",
              "          Math.round((position / fileData.byteLength) * 100);\n",
              "      percent.textContent = `${percentDone}% done`;\n",
              "\n",
              "    } while (position < fileData.byteLength);\n",
              "  }\n",
              "\n",
              "  // All done.\n",
              "  yield {\n",
              "    response: {\n",
              "      action: 'complete',\n",
              "    }\n",
              "  };\n",
              "}\n",
              "\n",
              "scope.google = scope.google || {};\n",
              "scope.google.colab = scope.google.colab || {};\n",
              "scope.google.colab._files = {\n",
              "  _uploadFiles,\n",
              "  _uploadFilesContinue,\n",
              "};\n",
              "})(self);\n",
              "</script> "
            ]
          },
          "metadata": {}
        },
        {
          "output_type": "stream",
          "name": "stdout",
          "text": [
            "Saving Theses complete data.csv to Theses complete data.csv\n"
          ]
        }
      ]
    },
    {
      "cell_type": "code",
      "source": [
        "df = pd.read_csv(\"Theses complete data.csv\")\n",
        "data = df.values"
      ],
      "metadata": {
        "id": "CjYetJFJMVcS"
      },
      "execution_count": 3,
      "outputs": []
    },
    {
      "cell_type": "code",
      "source": [
        "#Multivariate imputation\n",
        "from sklearn.experimental import enable_iterative_imputer\n",
        "from sklearn.impute import IterativeImputer\n",
        "imp = IterativeImputer(max_iter=10, random_state=0)\n",
        "imp.fit(data)\n",
        "\n",
        "x_prep = data[:,:]\n",
        "clean = np.round(imp.transform(x_prep))"
      ],
      "metadata": {
        "id": "F5iFc6ExMcJm"
      },
      "execution_count": 4,
      "outputs": []
    },
    {
      "cell_type": "markdown",
      "source": [
        "Turn our data back to pandas "
      ],
      "metadata": {
        "id": "9IdGZEk3MoTt"
      }
    },
    {
      "cell_type": "code",
      "source": [
        "clean = pd.DataFrame(clean, columns = ['YEAR', 'GDP per capita (current US$)', 'Electricity production from renewable sources, excluding hydroelectric (kWh)', 'Access to electricity (% of population)',\t'Total greenhouse gas emissions (kt of CO2 equivalent)',\t'Population, total',\t'Current health expenditure per capita (current US$)',\t'Government expenditure on education, total (% of GDP)',\t'Inflation, consumer prices (annual %)',\t'Employment to population ratio, 15+, total (%) (modeled ILO estimate)'])"
      ],
      "metadata": {
        "id": "cCcc-o7lMdHQ"
      },
      "execution_count": 5,
      "outputs": []
    },
    {
      "cell_type": "code",
      "source": [
        "clean.head()"
      ],
      "metadata": {
        "colab": {
          "base_uri": "https://localhost:8080/",
          "height": 354
        },
        "id": "TcpgzRGDUyC5",
        "outputId": "1196989c-0a15-485d-c142-423d4b57e6a0"
      },
      "execution_count": 6,
      "outputs": [
        {
          "output_type": "execute_result",
          "data": {
            "text/plain": [
              "     YEAR  GDP per capita (current US$)  \\\n",
              "0  1971.0                         452.0   \n",
              "1  1972.0                         497.0   \n",
              "2  1973.0                         617.0   \n",
              "3  1974.0                         784.0   \n",
              "4  1975.0                         844.0   \n",
              "\n",
              "   Electricity production from renewable sources, excluding hydroelectric (kWh)  \\\n",
              "0                                        163000000.0                              \n",
              "1                                        165000000.0                              \n",
              "2                                        170000000.0                              \n",
              "3                                        175000000.0                              \n",
              "4                                        172000000.0                              \n",
              "\n",
              "   Access to electricity (% of population)  \\\n",
              "0                                      0.0   \n",
              "1                                      1.0   \n",
              "2                                      2.0   \n",
              "3                                      3.0   \n",
              "4                                      5.0   \n",
              "\n",
              "   Total greenhouse gas emissions (kt of CO2 equivalent)  Population, total  \\\n",
              "0                                           870753.0            298284475.0   \n",
              "1                                           885610.0            306359650.0   \n",
              "2                                           901056.0            314761504.0   \n",
              "3                                           917123.0            323500333.0   \n",
              "4                                           933856.0            332583481.0   \n",
              "\n",
              "   Current health expenditure per capita (current US$)  \\\n",
              "0                                               19.0     \n",
              "1                                               22.0     \n",
              "2                                               27.0     \n",
              "3                                               35.0     \n",
              "4                                               37.0     \n",
              "\n",
              "   Government expenditure on education, total (% of GDP)  \\\n",
              "0                                                4.0       \n",
              "1                                                4.0       \n",
              "2                                                4.0       \n",
              "3                                                4.0       \n",
              "4                                                4.0       \n",
              "\n",
              "   Inflation, consumer prices (annual %)  \\\n",
              "0                                   19.0   \n",
              "1                                   19.0   \n",
              "2                                   19.0   \n",
              "3                                   20.0   \n",
              "4                                   15.0   \n",
              "\n",
              "   Employment to population ratio, 15+, total (%) (modeled ILO estimate)  \n",
              "0                                              134.0                      \n",
              "1                                              134.0                      \n",
              "2                                              134.0                      \n",
              "3                                              134.0                      \n",
              "4                                              134.0                      "
            ],
            "text/html": [
              "\n",
              "  <div id=\"df-909ce56c-de6d-4670-b499-66293da889d1\">\n",
              "    <div class=\"colab-df-container\">\n",
              "      <div>\n",
              "<style scoped>\n",
              "    .dataframe tbody tr th:only-of-type {\n",
              "        vertical-align: middle;\n",
              "    }\n",
              "\n",
              "    .dataframe tbody tr th {\n",
              "        vertical-align: top;\n",
              "    }\n",
              "\n",
              "    .dataframe thead th {\n",
              "        text-align: right;\n",
              "    }\n",
              "</style>\n",
              "<table border=\"1\" class=\"dataframe\">\n",
              "  <thead>\n",
              "    <tr style=\"text-align: right;\">\n",
              "      <th></th>\n",
              "      <th>YEAR</th>\n",
              "      <th>GDP per capita (current US$)</th>\n",
              "      <th>Electricity production from renewable sources, excluding hydroelectric (kWh)</th>\n",
              "      <th>Access to electricity (% of population)</th>\n",
              "      <th>Total greenhouse gas emissions (kt of CO2 equivalent)</th>\n",
              "      <th>Population, total</th>\n",
              "      <th>Current health expenditure per capita (current US$)</th>\n",
              "      <th>Government expenditure on education, total (% of GDP)</th>\n",
              "      <th>Inflation, consumer prices (annual %)</th>\n",
              "      <th>Employment to population ratio, 15+, total (%) (modeled ILO estimate)</th>\n",
              "    </tr>\n",
              "  </thead>\n",
              "  <tbody>\n",
              "    <tr>\n",
              "      <th>0</th>\n",
              "      <td>1971.0</td>\n",
              "      <td>452.0</td>\n",
              "      <td>163000000.0</td>\n",
              "      <td>0.0</td>\n",
              "      <td>870753.0</td>\n",
              "      <td>298284475.0</td>\n",
              "      <td>19.0</td>\n",
              "      <td>4.0</td>\n",
              "      <td>19.0</td>\n",
              "      <td>134.0</td>\n",
              "    </tr>\n",
              "    <tr>\n",
              "      <th>1</th>\n",
              "      <td>1972.0</td>\n",
              "      <td>497.0</td>\n",
              "      <td>165000000.0</td>\n",
              "      <td>1.0</td>\n",
              "      <td>885610.0</td>\n",
              "      <td>306359650.0</td>\n",
              "      <td>22.0</td>\n",
              "      <td>4.0</td>\n",
              "      <td>19.0</td>\n",
              "      <td>134.0</td>\n",
              "    </tr>\n",
              "    <tr>\n",
              "      <th>2</th>\n",
              "      <td>1973.0</td>\n",
              "      <td>617.0</td>\n",
              "      <td>170000000.0</td>\n",
              "      <td>2.0</td>\n",
              "      <td>901056.0</td>\n",
              "      <td>314761504.0</td>\n",
              "      <td>27.0</td>\n",
              "      <td>4.0</td>\n",
              "      <td>19.0</td>\n",
              "      <td>134.0</td>\n",
              "    </tr>\n",
              "    <tr>\n",
              "      <th>3</th>\n",
              "      <td>1974.0</td>\n",
              "      <td>784.0</td>\n",
              "      <td>175000000.0</td>\n",
              "      <td>3.0</td>\n",
              "      <td>917123.0</td>\n",
              "      <td>323500333.0</td>\n",
              "      <td>35.0</td>\n",
              "      <td>4.0</td>\n",
              "      <td>20.0</td>\n",
              "      <td>134.0</td>\n",
              "    </tr>\n",
              "    <tr>\n",
              "      <th>4</th>\n",
              "      <td>1975.0</td>\n",
              "      <td>844.0</td>\n",
              "      <td>172000000.0</td>\n",
              "      <td>5.0</td>\n",
              "      <td>933856.0</td>\n",
              "      <td>332583481.0</td>\n",
              "      <td>37.0</td>\n",
              "      <td>4.0</td>\n",
              "      <td>15.0</td>\n",
              "      <td>134.0</td>\n",
              "    </tr>\n",
              "  </tbody>\n",
              "</table>\n",
              "</div>\n",
              "      <button class=\"colab-df-convert\" onclick=\"convertToInteractive('df-909ce56c-de6d-4670-b499-66293da889d1')\"\n",
              "              title=\"Convert this dataframe to an interactive table.\"\n",
              "              style=\"display:none;\">\n",
              "        \n",
              "  <svg xmlns=\"http://www.w3.org/2000/svg\" height=\"24px\"viewBox=\"0 0 24 24\"\n",
              "       width=\"24px\">\n",
              "    <path d=\"M0 0h24v24H0V0z\" fill=\"none\"/>\n",
              "    <path d=\"M18.56 5.44l.94 2.06.94-2.06 2.06-.94-2.06-.94-.94-2.06-.94 2.06-2.06.94zm-11 1L8.5 8.5l.94-2.06 2.06-.94-2.06-.94L8.5 2.5l-.94 2.06-2.06.94zm10 10l.94 2.06.94-2.06 2.06-.94-2.06-.94-.94-2.06-.94 2.06-2.06.94z\"/><path d=\"M17.41 7.96l-1.37-1.37c-.4-.4-.92-.59-1.43-.59-.52 0-1.04.2-1.43.59L10.3 9.45l-7.72 7.72c-.78.78-.78 2.05 0 2.83L4 21.41c.39.39.9.59 1.41.59.51 0 1.02-.2 1.41-.59l7.78-7.78 2.81-2.81c.8-.78.8-2.07 0-2.86zM5.41 20L4 18.59l7.72-7.72 1.47 1.35L5.41 20z\"/>\n",
              "  </svg>\n",
              "      </button>\n",
              "      \n",
              "  <style>\n",
              "    .colab-df-container {\n",
              "      display:flex;\n",
              "      flex-wrap:wrap;\n",
              "      gap: 12px;\n",
              "    }\n",
              "\n",
              "    .colab-df-convert {\n",
              "      background-color: #E8F0FE;\n",
              "      border: none;\n",
              "      border-radius: 50%;\n",
              "      cursor: pointer;\n",
              "      display: none;\n",
              "      fill: #1967D2;\n",
              "      height: 32px;\n",
              "      padding: 0 0 0 0;\n",
              "      width: 32px;\n",
              "    }\n",
              "\n",
              "    .colab-df-convert:hover {\n",
              "      background-color: #E2EBFA;\n",
              "      box-shadow: 0px 1px 2px rgba(60, 64, 67, 0.3), 0px 1px 3px 1px rgba(60, 64, 67, 0.15);\n",
              "      fill: #174EA6;\n",
              "    }\n",
              "\n",
              "    [theme=dark] .colab-df-convert {\n",
              "      background-color: #3B4455;\n",
              "      fill: #D2E3FC;\n",
              "    }\n",
              "\n",
              "    [theme=dark] .colab-df-convert:hover {\n",
              "      background-color: #434B5C;\n",
              "      box-shadow: 0px 1px 3px 1px rgba(0, 0, 0, 0.15);\n",
              "      filter: drop-shadow(0px 1px 2px rgba(0, 0, 0, 0.3));\n",
              "      fill: #FFFFFF;\n",
              "    }\n",
              "  </style>\n",
              "\n",
              "      <script>\n",
              "        const buttonEl =\n",
              "          document.querySelector('#df-909ce56c-de6d-4670-b499-66293da889d1 button.colab-df-convert');\n",
              "        buttonEl.style.display =\n",
              "          google.colab.kernel.accessAllowed ? 'block' : 'none';\n",
              "\n",
              "        async function convertToInteractive(key) {\n",
              "          const element = document.querySelector('#df-909ce56c-de6d-4670-b499-66293da889d1');\n",
              "          const dataTable =\n",
              "            await google.colab.kernel.invokeFunction('convertToInteractive',\n",
              "                                                     [key], {});\n",
              "          if (!dataTable) return;\n",
              "\n",
              "          const docLinkHtml = 'Like what you see? Visit the ' +\n",
              "            '<a target=\"_blank\" href=https://colab.research.google.com/notebooks/data_table.ipynb>data table notebook</a>'\n",
              "            + ' to learn more about interactive tables.';\n",
              "          element.innerHTML = '';\n",
              "          dataTable['output_type'] = 'display_data';\n",
              "          await google.colab.output.renderOutput(dataTable, element);\n",
              "          const docLink = document.createElement('div');\n",
              "          docLink.innerHTML = docLinkHtml;\n",
              "          element.appendChild(docLink);\n",
              "        }\n",
              "      </script>\n",
              "    </div>\n",
              "  </div>\n",
              "  "
            ]
          },
          "metadata": {},
          "execution_count": 6
        }
      ]
    },
    {
      "cell_type": "markdown",
      "source": [
        "A multiple linear regression model"
      ],
      "metadata": {
        "id": "5g_L8e-eM0ri"
      }
    },
    {
      "cell_type": "code",
      "source": [
        "X = clean[['Electricity production from renewable sources, excluding hydroelectric (kWh)', 'Access to electricity (% of population)',\t'Total greenhouse gas emissions (kt of CO2 equivalent)',\t'Population, total',\t'Current health expenditure per capita (current US$)',\t'Government expenditure on education, total (% of GDP)',\t'Inflation, consumer prices (annual %)',\t'Employment to population ratio, 15+, total (%) (modeled ILO estimate)']]\n",
        "y = clean['GDP per capita (current US$)']\n",
        "\n",
        "\n",
        "# Note the difference in argument order\n",
        "model = sm.OLS(y, X).fit()\n",
        "predictions = model.predict(X) # make the predictions by the model\n",
        "\n",
        "# Print out the statistics\n",
        "print(model.summary())"
      ],
      "metadata": {
        "colab": {
          "base_uri": "https://localhost:8080/"
        },
        "id": "USVM9zAWMsr1",
        "outputId": "f619222a-9a3c-411a-e7d1-be75cee93508"
      },
      "execution_count": 7,
      "outputs": [
        {
          "output_type": "stream",
          "name": "stdout",
          "text": [
            "                                      OLS Regression Results                                     \n",
            "=================================================================================================\n",
            "Dep. Variable:     GDP per capita (current US$)   R-squared (uncentered):                   0.999\n",
            "Model:                                      OLS   Adj. R-squared (uncentered):              0.999\n",
            "Method:                           Least Squares   F-statistic:                              6148.\n",
            "Date:                          Wed, 21 Dec 2022   Prob (F-statistic):                    3.72e-63\n",
            "Time:                                  18:53:54   Log-Likelihood:                         -283.96\n",
            "No. Observations:                            51   AIC:                                      583.9\n",
            "Df Residuals:                                43   BIC:                                      599.4\n",
            "Df Model:                                     8                                                  \n",
            "Covariance Type:                      nonrobust                                                  \n",
            "================================================================================================================================================\n",
            "                                                                                   coef    std err          t      P>|t|      [0.025      0.975]\n",
            "------------------------------------------------------------------------------------------------------------------------------------------------\n",
            "Electricity production from renewable sources, excluding hydroelectric (kWh)  6.748e-09   9.14e-09      0.738      0.464   -1.17e-08    2.52e-08\n",
            "Access to electricity (% of population)                                         -1.8352      2.916     -0.629      0.532      -7.716       4.045\n",
            "Total greenhouse gas emissions (kt of CO2 equivalent)                           -0.0026      0.000     -6.472      0.000      -0.003      -0.002\n",
            "Population, total                                                             4.432e-06   7.89e-07      5.618      0.000    2.84e-06    6.02e-06\n",
            "Current health expenditure per capita (current US$)                             22.5851      0.512     44.138      0.000      21.553      23.617\n",
            "Government expenditure on education, total (% of GDP)                           -5.1448     12.284     -0.419      0.677     -29.917      19.628\n",
            "Inflation, consumer prices (annual %)                                            0.7124      1.726      0.413      0.682      -2.768       4.192\n",
            "Employment to population ratio, 15+, total (%) (modeled ILO estimate)            7.3226      1.328      5.513      0.000       4.644      10.001\n",
            "==============================================================================\n",
            "Omnibus:                       13.282   Durbin-Watson:                   2.320\n",
            "Prob(Omnibus):                  0.001   Jarque-Bera (JB):               21.380\n",
            "Skew:                           0.766   Prob(JB):                     2.28e-05\n",
            "Kurtosis:                       5.777   Cond. No.                     3.91e+09\n",
            "==============================================================================\n",
            "\n",
            "Notes:\n",
            "[1] R² is computed without centering (uncentered) since the model does not contain a constant.\n",
            "[2] Standard Errors assume that the covariance matrix of the errors is correctly specified.\n",
            "[3] The condition number is large, 3.91e+09. This might indicate that there are\n",
            "strong multicollinearity or other numerical problems.\n"
          ]
        }
      ]
    },
    {
      "cell_type": "code",
      "source": [
        "X = clean[['Electricity production from renewable sources, excluding hydroelectric (kWh)', 'Access to electricity (% of population)',\t'Total greenhouse gas emissions (kt of CO2 equivalent)',\t'Population, total',\t'Current health expenditure per capita (current US$)',\t'Government expenditure on education, total (% of GDP)',\t'Inflation, consumer prices (annual %)',\t'Employment to population ratio, 15+, total (%) (modeled ILO estimate)']]\n",
        "y = clean['GDP per capita (current US$)']\n",
        "X = sm.add_constant(X) ## let's add an intercept (beta_0) to our model\n",
        "\n",
        "# Note the difference in argument order\n",
        "model = sm.OLS(y, X).fit()\n",
        "predictions = model.predict(X) # make the predictions by the model\n",
        "\n",
        "# Print out the statistics\n",
        "print(model.summary())"
      ],
      "metadata": {
        "colab": {
          "base_uri": "https://localhost:8080/"
        },
        "id": "myoTrCaRx3E1",
        "outputId": "0c77e8d1-d60e-4a1a-ad57-100b77718ef3"
      },
      "execution_count": 8,
      "outputs": [
        {
          "output_type": "stream",
          "name": "stdout",
          "text": [
            "                                 OLS Regression Results                                 \n",
            "========================================================================================\n",
            "Dep. Variable:     GDP per capita (current US$)   R-squared:                       0.996\n",
            "Model:                                      OLS   Adj. R-squared:                  0.995\n",
            "Method:                           Least Squares   F-statistic:                     1375.\n",
            "Date:                          Wed, 21 Dec 2022   Prob (F-statistic):           3.05e-48\n",
            "Time:                                  18:56:01   Log-Likelihood:                -283.84\n",
            "No. Observations:                            51   AIC:                             585.7\n",
            "Df Residuals:                                42   BIC:                             603.1\n",
            "Df Model:                                     8                                         \n",
            "Covariance Type:                      nonrobust                                         \n",
            "================================================================================================================================================\n",
            "                                                                                   coef    std err          t      P>|t|      [0.025      0.975]\n",
            "------------------------------------------------------------------------------------------------------------------------------------------------\n",
            "const                                                                          907.7262   2028.139      0.448      0.657   -3185.224    5000.677\n",
            "Electricity production from renewable sources, excluding hydroelectric (kWh)  6.667e-09   9.23e-09      0.722      0.474    -1.2e-08    2.53e-08\n",
            "Access to electricity (% of population)                                         -0.9918      3.495     -0.284      0.778      -8.045       6.061\n",
            "Total greenhouse gas emissions (kt of CO2 equivalent)                           -0.0026      0.000     -6.339      0.000      -0.003      -0.002\n",
            "Population, total                                                             4.174e-06   9.83e-07      4.244      0.000    2.19e-06    6.16e-06\n",
            "Current health expenditure per capita (current US$)                             22.7371      0.618     36.783      0.000      21.490      23.985\n",
            "Government expenditure on education, total (% of GDP)                           -4.7719     12.428     -0.384      0.703     -29.852      20.308\n",
            "Inflation, consumer prices (annual %)                                            0.6121      1.756      0.349      0.729      -2.932       4.156\n",
            "Employment to population ratio, 15+, total (%) (modeled ILO estimate)            1.0058     14.177      0.071      0.944     -27.605      29.616\n",
            "==============================================================================\n",
            "Omnibus:                       15.138   Durbin-Watson:                   2.357\n",
            "Prob(Omnibus):                  0.001   Jarque-Bera (JB):               23.470\n",
            "Skew:                           0.919   Prob(JB):                     8.01e-06\n",
            "Kurtosis:                       5.768   Cond. No.                     6.37e+11\n",
            "==============================================================================\n",
            "\n",
            "Notes:\n",
            "[1] Standard Errors assume that the covariance matrix of the errors is correctly specified.\n",
            "[2] The condition number is large, 6.37e+11. This might indicate that there are\n",
            "strong multicollinearity or other numerical problems.\n"
          ]
        },
        {
          "output_type": "stream",
          "name": "stderr",
          "text": [
            "/usr/local/lib/python3.8/dist-packages/statsmodels/tsa/tsatools.py:142: FutureWarning: In a future version of pandas all arguments of concat except for the argument 'objs' will be keyword-only\n",
            "  x = pd.concat(x[::order], 1)\n"
          ]
        }
      ]
    },
    {
      "cell_type": "markdown",
      "source": [
        "Because we "
      ],
      "metadata": {
        "id": "6IVaTfJqEs2b"
      }
    },
    {
      "cell_type": "code",
      "source": [
        "from sklearn.preprocessing import MinMaxScaler\n",
        "scaler = MinMaxScaler()  \n",
        "clean_scaled = scaler.fit_transform(clean)"
      ],
      "metadata": {
        "id": "4m6aP7y3DmEU"
      },
      "execution_count": 9,
      "outputs": []
    },
    {
      "cell_type": "code",
      "source": [
        "clean_scaled[0:2]"
      ],
      "metadata": {
        "colab": {
          "base_uri": "https://localhost:8080/"
        },
        "id": "vk_I6pN-EMLT",
        "outputId": "43a0bfeb-d1be-4b2d-f799-3b400332243d"
      },
      "execution_count": 13,
      "outputs": [
        {
          "output_type": "execute_result",
          "data": {
            "text/plain": [
              "array([[0.00000000e+00, 0.00000000e+00, 0.00000000e+00, 0.00000000e+00,\n",
              "        0.00000000e+00, 0.00000000e+00, 0.00000000e+00, 2.00000000e-01,\n",
              "        3.17073171e-01, 1.00000000e+00],\n",
              "       [2.00000000e-02, 1.28681727e-02, 1.81110206e-04, 9.43396226e-03,\n",
              "        9.44469131e-03, 9.31092559e-03, 1.75438596e-02, 2.00000000e-01,\n",
              "        3.17073171e-01, 1.00000000e+00]])"
            ]
          },
          "metadata": {},
          "execution_count": 13
        }
      ]
    },
    {
      "cell_type": "code",
      "source": [
        "clean_scaled = pd.DataFrame(clean_scaled, columns = ['YEAR', 'GDP per capita (current US$)', 'Electricity production from renewable sources, excluding hydroelectric (kWh)', 'Access to electricity (% of population)',\t'Total greenhouse gas emissions (kt of CO2 equivalent)',\t'Population, total',\t'Current health expenditure per capita (current US$)',\t'Government expenditure on education, total (% of GDP)',\t'Inflation, consumer prices (annual %)',\t'Employment to population ratio, 15+, total (%) (modeled ILO estimate)'])"
      ],
      "metadata": {
        "id": "0G8JheuoEXgB"
      },
      "execution_count": 14,
      "outputs": []
    },
    {
      "cell_type": "code",
      "source": [
        "X = clean_scaled[['Electricity production from renewable sources, excluding hydroelectric (kWh)', 'Access to electricity (% of population)',\t'Total greenhouse gas emissions (kt of CO2 equivalent)',\t'Population, total',\t'Current health expenditure per capita (current US$)',\t'Government expenditure on education, total (% of GDP)',\t'Inflation, consumer prices (annual %)',\t'Employment to population ratio, 15+, total (%) (modeled ILO estimate)']]\n",
        "y = clean_scaled['GDP per capita (current US$)']\n",
        "X = sm.add_constant(X) ## let's add an intercept (beta_0) to our model\n",
        "\n",
        "# Note the difference in argument order\n",
        "model = sm.OLS(y, X).fit()\n",
        "predictions = model.predict(X) # make the predictions by the model\n",
        "\n",
        "# Print out the statistics\n",
        "print(model.summary())"
      ],
      "metadata": {
        "colab": {
          "base_uri": "https://localhost:8080/"
        },
        "id": "xfAxMFiXD4Pm",
        "outputId": "96a0ac5d-b15b-4ef7-ec74-0014eb837a5a"
      },
      "execution_count": 15,
      "outputs": [
        {
          "output_type": "stream",
          "name": "stdout",
          "text": [
            "                                 OLS Regression Results                                 \n",
            "========================================================================================\n",
            "Dep. Variable:     GDP per capita (current US$)   R-squared:                       0.996\n",
            "Model:                                      OLS   Adj. R-squared:                  0.995\n",
            "Method:                           Least Squares   F-statistic:                     1375.\n",
            "Date:                          Wed, 21 Dec 2022   Prob (F-statistic):           3.05e-48\n",
            "Time:                                  19:04:08   Log-Likelihood:                 132.31\n",
            "No. Observations:                            51   AIC:                            -246.6\n",
            "Df Residuals:                                42   BIC:                            -229.2\n",
            "Df Model:                                     8                                         \n",
            "Covariance Type:                      nonrobust                                         \n",
            "================================================================================================================================================\n",
            "                                                                                   coef    std err          t      P>|t|      [0.025      0.975]\n",
            "------------------------------------------------------------------------------------------------------------------------------------------------\n",
            "const                                                                           -0.0059      0.063     -0.093      0.927      -0.134       0.122\n",
            "Electricity production from renewable sources, excluding hydroelectric (kWh)     0.0211      0.029      0.722      0.474      -0.038       0.080\n",
            "Access to electricity (% of population)                                         -0.0301      0.106     -0.284      0.778      -0.244       0.184\n",
            "Total greenhouse gas emissions (kt of CO2 equivalent)                           -1.1692      0.184     -6.339      0.000      -1.541      -0.797\n",
            "Population, total                                                                1.0351      0.244      4.244      0.000       0.543       1.527\n",
            "Current health expenditure per capita (current US$)                              1.1118      0.030     36.783      0.000       1.051       1.173\n",
            "Government expenditure on education, total (% of GDP)                           -0.0068      0.018     -0.384      0.703      -0.043       0.029\n",
            "Inflation, consumer prices (annual %)                                            0.0072      0.021      0.349      0.729      -0.034       0.049\n",
            "Employment to population ratio, 15+, total (%) (modeled ILO estimate)            0.0043      0.061      0.071      0.944      -0.118       0.127\n",
            "==============================================================================\n",
            "Omnibus:                       15.138   Durbin-Watson:                   2.357\n",
            "Prob(Omnibus):                  0.001   Jarque-Bera (JB):               23.470\n",
            "Skew:                           0.919   Prob(JB):                     8.01e-06\n",
            "Kurtosis:                       5.768   Cond. No.                         171.\n",
            "==============================================================================\n",
            "\n",
            "Notes:\n",
            "[1] Standard Errors assume that the covariance matrix of the errors is correctly specified.\n"
          ]
        },
        {
          "output_type": "stream",
          "name": "stderr",
          "text": [
            "/usr/local/lib/python3.8/dist-packages/statsmodels/tsa/tsatools.py:142: FutureWarning: In a future version of pandas all arguments of concat except for the argument 'objs' will be keyword-only\n",
            "  x = pd.concat(x[::order], 1)\n"
          ]
        }
      ]
    }
  ]
}